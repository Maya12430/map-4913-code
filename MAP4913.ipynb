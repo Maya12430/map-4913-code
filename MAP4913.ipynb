{
  "nbformat": 4,
  "nbformat_minor": 0,
  "metadata": {
    "colab": {
      "provenance": []
    },
    "kernelspec": {
      "name": "python3",
      "display_name": "Python 3"
    },
    "language_info": {
      "name": "python"
    }
  },
  "cells": [
    {
      "cell_type": "code",
      "execution_count": null,
      "metadata": {
        "id": "YbpAUTlSUYd-"
      },
      "outputs": [],
      "source": []
    },
    {
      "cell_type": "markdown",
      "source": [
        "### Distance between preferred hospital to the a different hospital that needs the nurse."
      ],
      "metadata": {
        "id": "9-pMzJz8Ub-I"
      }
    },
    {
      "cell_type": "code",
      "source": [
        "#distance between two hospitals (Example for a really bad distance match)\n",
        "import math\n",
        "\n",
        "def haversine(lat1, lon1, lat2, lon2):\n",
        "    # Radius of Earth in miles\n",
        "    R = 3958.8\n",
        "\n",
        "    # Convert latitude and longitude from degrees to radians\n",
        "    lat1_rad = math.radians(lat1)\n",
        "    lon1_rad = math.radians(lon1)\n",
        "    lat2_rad = math.radians(lat2)\n",
        "    lon2_rad = math.radians(lon2)\n",
        "\n",
        "    # Difference in coordinates\n",
        "    dlat = lat2_rad - lat1_rad\n",
        "    dlon = lon2_rad - lon1_rad\n",
        "\n",
        "    # Haversine formula\n",
        "    a = math.sin(dlat / 2)**2 + math.cos(lat1_rad) * math.cos(lat2_rad) * math.sin(dlon / 2)**2\n",
        "    c = 2 * math.atan2(math.sqrt(a), math.sqrt(1 - a))\n",
        "\n",
        "    # Distance in miles\n",
        "    distance = R * c\n",
        "\n",
        "    return distance\n",
        "\n",
        "# coordinates of Bethesda Hospital East and Orlando Regional Medical Center\n",
        "lat1, lon1 = 26.5046724, -80.07016956595065 #Bethesda\n",
        "lat2, lon2 = 28.52550115, -81.37826689467641 #Orlando Regional\n",
        "\n",
        "# Calculate the distance\n",
        "distance = haversine(lat1, lon1, lat2, lon2)\n",
        "print(f\"Distance between the two hospitals: {distance} miles\")\n"
      ],
      "metadata": {
        "colab": {
          "base_uri": "https://localhost:8080/"
        },
        "id": "_zqT2bnzUce6",
        "outputId": "62a8dd1b-939d-46f5-cf8e-31b6eb12e96c"
      },
      "execution_count": null,
      "outputs": [
        {
          "output_type": "stream",
          "name": "stdout",
          "text": [
            "Distance between the two hospitals: 160.9966840164623 miles\n"
          ]
        }
      ]
    },
    {
      "cell_type": "code",
      "source": [],
      "metadata": {
        "id": "TvYG9TKjzSuR"
      },
      "execution_count": null,
      "outputs": []
    },
    {
      "cell_type": "code",
      "source": [
        "#example of a good distance match\n",
        "\n",
        "import math\n",
        "\n",
        "def haversine(lat1, lon1, lat2, lon2):\n",
        "    # Radius of Earth in miles\n",
        "    R = 3958.8\n",
        "\n",
        "    # Convert latitude and longitude from degrees to radians\n",
        "    lat1_rad = math.radians(lat1)\n",
        "    lon1_rad = math.radians(lon1)\n",
        "    lat2_rad = math.radians(lat2)\n",
        "    lon2_rad = math.radians(lon2)\n",
        "\n",
        "    # Difference in coordinates\n",
        "    dlat = lat2_rad - lat1_rad\n",
        "    dlon = lon2_rad - lon1_rad\n",
        "\n",
        "    # Haversine formula\n",
        "    a = math.sin(dlat / 2)**2 + math.cos(lat1_rad) * math.cos(lat2_rad) * math.sin(dlon / 2)**2\n",
        "    c = 2 * math.atan2(math.sqrt(a), math.sqrt(1 - a))\n",
        "\n",
        "    # Distance in miles\n",
        "    distance = R * c\n",
        "\n",
        "    return distance\n",
        "\n",
        "# coordinates of West Boca Medical Center and Boca Raton Regional Hospital\n",
        "lat1, lon1 = 26.35598085, -80.19909866957923 #West Boca Medical Center\n",
        "lat2, lon2 = 26.358736399999998, -80.10189890615072 #Boca Raton Regional Hospital\n",
        "\n",
        "# Calculate the distance\n",
        "distance = haversine(lat1, lon1, lat2, lon2)\n",
        "print(f\"Distance between the two hospitals: {distance} miles\")\n"
      ],
      "metadata": {
        "colab": {
          "base_uri": "https://localhost:8080/"
        },
        "id": "KvFMMWvDuhNQ",
        "outputId": "927643d6-76a4-4f8a-e664-d389ac6af7d9"
      },
      "execution_count": null,
      "outputs": [
        {
          "output_type": "stream",
          "name": "stdout",
          "text": [
            "Distance between the two hospitals: 6.020768824166736 miles\n"
          ]
        }
      ]
    },
    {
      "cell_type": "code",
      "source": [],
      "metadata": {
        "id": "F8zuEr5TuWDf"
      },
      "execution_count": null,
      "outputs": []
    },
    {
      "cell_type": "code",
      "source": [
        "#https://www.gps-coordinates.net/distance (straight line distance)"
      ],
      "metadata": {
        "id": "5wst-CZ3vzfg"
      },
      "execution_count": null,
      "outputs": []
    },
    {
      "cell_type": "code",
      "source": [
        "pip install geopy\n"
      ],
      "metadata": {
        "colab": {
          "base_uri": "https://localhost:8080/"
        },
        "id": "oemAcekBBk64",
        "outputId": "980f0401-64db-4977-ab78-3af8ea1dc684"
      },
      "execution_count": null,
      "outputs": [
        {
          "output_type": "stream",
          "name": "stdout",
          "text": [
            "Requirement already satisfied: geopy in /usr/local/lib/python3.10/dist-packages (2.3.0)\n",
            "Requirement already satisfied: geographiclib<3,>=1.52 in /usr/local/lib/python3.10/dist-packages (from geopy) (2.0)\n"
          ]
        }
      ]
    },
    {
      "cell_type": "code",
      "source": [
        "#working\n",
        "import requests\n",
        "\n",
        "def find_center_coordinates(place_name):\n",
        "    # Replace spaces with '+' for URL encoding\n",
        "    place_name_formatted = place_name.replace(' ', '+')\n",
        "    url = f\"https://nominatim.openstreetmap.org/search?q={place_name_formatted}&format=json\"\n",
        "\n",
        "    response = requests.get(url)\n",
        "    if response.status_code == 200:\n",
        "        data = response.json()\n",
        "        if data:\n",
        "            # Assuming the first returned result is the desired one\n",
        "            latitude = data[0]['lat']\n",
        "            longitude = data[0]['lon']\n",
        "            return (latitude, longitude)\n",
        "        else:\n",
        "            return \"Location not found.\"\n",
        "    else:\n",
        "        return \"Failed to access geocoding service.\"\n",
        "\n",
        "place_name = input(\"Enter the name of the place: \")\n",
        "coordinates = find_center_coordinates(place_name)\n",
        "print(f\"Coordinates of {place_name}: {coordinates}\")\n"
      ],
      "metadata": {
        "colab": {
          "base_uri": "https://localhost:8080/"
        },
        "id": "zCz_rm_5D4DG",
        "outputId": "c819f31d-baab-4ef7-d1ec-38c5b12c16fb"
      },
      "execution_count": 14,
      "outputs": [
        {
          "output_type": "stream",
          "name": "stdout",
          "text": [
            "Enter the name of the place: Florida Atlantic University\n",
            "Coordinates of Florida Atlantic University: ('26.119403650000002', '-80.14169191096471')\n"
          ]
        }
      ]
    },
    {
      "cell_type": "code",
      "source": [
        "#plotting the function e^((-x^2)/1000)\n",
        "import numpy as np #for numerical operations\n",
        "import matplotlib.pyplot as plt # to create plots\n",
        "\n",
        "# the range of x values: from -6 to 6, with small steps for smoothness\n",
        "x = np.linspace(-80, 80, 1000)\n",
        "\n",
        "# y values using the function e^(-x^2)\n",
        "y = np.exp((-x**2)/1000)\n",
        "\n",
        "plt.ylim(0.0,1.0)\n",
        "plt.plot(x, y) #plot x against y\n",
        "plt.title('$e^{{-x^2}/1000}$') #plot title\n",
        "plt.xlabel('distance') #labeling the x axis\n",
        "plt.ylabel('match perecentage') #labeling the y axis\n",
        "plt.show()"
      ],
      "metadata": {
        "id": "AG90S2xTEGe4",
        "colab": {
          "base_uri": "https://localhost:8080/",
          "height": 477
        },
        "outputId": "ce493054-6266-45cf-e382-dfefd4a2830b"
      },
      "execution_count": null,
      "outputs": [
        {
          "output_type": "display_data",
          "data": {
            "text/plain": [
              "<Figure size 640x480 with 1 Axes>"
            ],
            "image/png": "[encoded data removed]"
          },
          "metadata": {}
        }
      ]
    },
    {
      "cell_type": "code",
      "source": [
        "#plotting the function e^((-x^2)/1000)\n",
        "import numpy as np #for numerical operations\n",
        "import matplotlib.pyplot as plt # to create plots\n",
        "\n",
        "# the range of x values: from -6 to 6, with small steps for smoothness\n",
        "x = np.linspace(-80, 80, 1000)\n",
        "\n",
        "# y values using the function e^(-x^2)\n",
        "y = np.exp((-x**2)/1000)\n",
        "constant_value1 = np.exp((-6.207**2)/1000)\n",
        "constant_value2 = np.exp(-160.996**2/1000)\n",
        "plt.ylim(0.0,1.10)\n",
        "plt.plot(x, y) #plot x against y\n",
        "\n",
        "plt.plot(x, constant_value1 * np.ones_like(x), label='$e^{-6.207^2/1000}$', linestyle='--')\n",
        "plt.plot(x, constant_value2 * np.ones_like(x), label='$e^{-160.996^2/1000}$', linestyle='--')\n",
        "\n",
        "plt.title('$e^{{-x^2}/1000}$') #plot title\n",
        "#plt.grid()\n",
        "plt.xlabel('distance') #labeling the x axis\n",
        "plt.ylabel('match perecentage') #labeling the y axis\n",
        "plt.legend()\n",
        "plt.show()\n",
        "\n",
        "print(constant_value1)\n",
        "constant_value2\n",
        "\n"
      ],
      "metadata": {
        "colab": {
          "base_uri": "https://localhost:8080/",
          "height": 511
        },
        "id": "6ADDH0NB9ob7",
        "outputId": "436094eb-5a98-4d93-c026-446d995c5151"
      },
      "execution_count": null,
      "outputs": [
        {
          "output_type": "display_data",
          "data": {
            "text/plain": [
              "<Figure size 640x480 with 1 Axes>"
            ],
            "image/png": "[encoded data removed]"
          },
          "metadata": {}
        },
        {
          "output_type": "stream",
          "name": "stdout",
          "text": [
            "0.9622058701275953\n"
          ]
        },
        {
          "output_type": "execute_result",
          "data": {
            "text/plain": [
              "5.53620418037578e-12"
            ]
          },
          "metadata": {},
          "execution_count": 2
        }
      ]
    },
    {
      "cell_type": "code",
      "source": [
        "#trying to accomodate this code so that it would work in colab\n",
        "import heapq  # Importing heapq to use a priority queue\n",
        "\n",
        "# Reconstructs the path from the start to the current node\n",
        "def reconstruct_path(cameFrom, current):\n",
        "    total_path = [current]\n",
        "    while current in cameFrom:\n",
        "        current = cameFrom[current]\n",
        "        total_path.insert(0, current)  # Prepend operation\n",
        "    return total_path\n",
        "\n",
        "# The A* search algorithm\n",
        "def A_Star(start, goal, h, graph):\n",
        "    openSet = []  # This will be our priority queue (min-heap)\n",
        "    heapq.heappush(openSet, (h(start), start))  # Push the start node with its heuristic as priority\n",
        "\n",
        "    cameFrom = {}  # Stores the best path to a node found so far\n",
        "\n",
        "    gScore = {node: float('inf') for node in graph}  # Default all gScores to infinity\n",
        "    gScore[start] = 0  # The cost from start to start is 0\n",
        "\n",
        "    fScore = {node: float('inf') for node in graph}  # Default all fScores to infinity\n",
        "    fScore[start] = h(start)  # For the first node, fScore is completely heuristic.\n",
        "\n",
        "    openSetHash = {start}  # To quickly check if a node is in the open set\n",
        "\n",
        "    while openSet:\n",
        "        _, current = heapq.heappop(openSet)  # Pop the node with the lowest fScore\n",
        "        openSetHash.remove(current)\n",
        "\n",
        "        if current == goal:\n",
        "            return reconstruct_path(cameFrom, current)\n",
        "\n",
        "        for neighbor, d in graph[current].items():\n",
        "            tentative_gScore = gScore[current] + d\n",
        "            if tentative_gScore < gScore[neighbor]:\n",
        "                cameFrom[neighbor] = current\n",
        "                gScore[neighbor] = tentative_gScore\n",
        "                fScore[neighbor] = tentative_gScore + h(neighbor)\n",
        "                if neighbor not in openSetHash:\n",
        "                    heapq.heappush(openSet, (fScore[neighbor], neighbor))\n",
        "                    openSetHash.add(neighbor)\n",
        "\n",
        "    return None  # Return None if there is no path\n",
        "\n",
        "# Example graph represented as a dictionary\n",
        "graph = {\n",
        "    'start': {'A': 1, 'B': 4},\n",
        "    'A': {'C': 1, 'start': 1},\n",
        "    'B': {'D': 1, 'start': 4},\n",
        "    'C': {'goal': 1, 'A': 1},\n",
        "    'D': {'goal': 1, 'B': 1},\n",
        "    'goal': {'C': 1, 'D': 1}\n",
        "}\n",
        "\n",
        "# Example heuristic function\n",
        "def h(node):\n",
        "    # Example heuristic values, in a real scenario, these should be estimated costs to reach the goal\n",
        "    heuristics = {'start': 10, 'A': 8, 'B': 2, 'C': 2, 'D': 3, 'goal': 0}\n",
        "    return heuristics[node]\n",
        "\n",
        "# Run the A* algorithm\n",
        "path = A_Star('start', 'goal', h, graph)\n",
        "print(\"Path from start to goal:\", path)\n"
      ],
      "metadata": {
        "colab": {
          "base_uri": "https://localhost:8080/"
        },
        "id": "zHePp6IWkRCG",
        "outputId": "6b12d648-bd1c-4f17-8baf-6add617b65c3"
      },
      "execution_count": null,
      "outputs": [
        {
          "output_type": "stream",
          "name": "stdout",
          "text": [
            "Path from start to goal: ['start', 'B', 'D', 'goal']\n"
          ]
        }
      ]
    },
    {
      "cell_type": "code",
      "source": [
        "#trying to accomodate this code so that it would work in colab\n",
        "import heapq  # Importing heapq to use a priority queue\n",
        "\n",
        "# Reconstructs the path from the start to the current node\n",
        "def reconstruct_path(West Boca Medical Center, Boca Raton Regional Hospital):\n",
        "    total_path = [Boca Raton Regional Hospital]\n",
        "    while Boca Raton Regional Hospital in West Boca Medical Center:\n",
        "        current = West Boca Medical Center[Boca Raton Regional Hospital]\n",
        "        total_path.insert(0, current)  # Prepend operation\n",
        "    return total_path\n",
        "\n",
        "# The A* search algorithm\n",
        "def A_Star(start, goal, h, graph):\n",
        "    openSet = []  # This will be our priority queue (min-heap)\n",
        "    heapq.heappush(openSet, (h(start), start))  # Push the start node with its heuristic as priority\n",
        "\n",
        "    cameFrom = {}  # Stores the best path to a node found so far\n",
        "\n",
        "    gScore = {node: float('inf') for node in graph}  # Default all gScores to infinity\n",
        "    gScore[start] = 0  # The cost from start to start is 0\n",
        "\n",
        "    fScore = {node: float('inf') for node in graph}  # Default all fScores to infinity\n",
        "    fScore[start] = h(start)  # For the first node, fScore is completely heuristic.\n",
        "\n",
        "    openSetHash = {start}  # To quickly check if a node is in the open set\n",
        "\n",
        "    while openSet:\n",
        "        _, current = heapq.heappop(openSet)  # Pop the node with the lowest fScore\n",
        "        openSetHash.remove(current)\n",
        "\n",
        "        if current == goal:\n",
        "            return reconstruct_path(cameFrom, current)\n",
        "\n",
        "        for neighbor, d in graph[current].items():\n",
        "            tentative_gScore = gScore[current] + d\n",
        "            if tentative_gScore < gScore[neighbor]:\n",
        "                cameFrom[neighbor] = current\n",
        "                gScore[neighbor] = tentative_gScore\n",
        "                fScore[neighbor] = tentative_gScore + h(neighbor)\n",
        "                if neighbor not in openSetHash:\n",
        "                    heapq.heappush(openSet, (fScore[neighbor], neighbor))\n",
        "                    openSetHash.add(neighbor)\n",
        "\n",
        "    return None  # Return None if there is no path\n",
        "\n",
        "# Example graph represented as a dictionary\n",
        "graph = {\n",
        "    'start': {'A': 1, 'B': 4},\n",
        "    'A': {'C': 1, 'start': 1},\n",
        "    'B': {'D': 1, 'start': 4},\n",
        "    'C': {'goal': 1, 'A': 1},\n",
        "    'D': {'goal': 1, 'B': 1},\n",
        "    'goal': {'C': 1, 'D': 1}\n",
        "}\n",
        "\n",
        "# Example heuristic function\n",
        "def h(node):\n",
        "    # Example heuristic values, in a real scenario, these should be estimated costs to reach the goal\n",
        "    heuristics = {'start': 10, 'A': 8, 'B': 2, 'C': 2, 'D': 3, 'goal': 0}\n",
        "    return heuristics[node]\n",
        "\n",
        "# Run the A* algorithm\n",
        "path = A_Star('start', 'goal', h, graph)\n",
        "print(\"Path from start to goal:\", path)"
      ],
      "metadata": {
        "colab": {
          "base_uri": "https://localhost:8080/",
          "height": 140
        },
        "id": "aAIRTx9Dl_d1",
        "outputId": "189faad8-76a8-4ee8-d253-60d20faaa524"
      },
      "execution_count": null,
      "outputs": [
        {
          "output_type": "error",
          "ename": "SyntaxError",
          "evalue": "invalid syntax (<ipython-input-22-e04e2bca3e7e>, line 5)",
          "traceback": [
            "\u001b[0;36m  File \u001b[0;32m\"<ipython-input-22-e04e2bca3e7e>\"\u001b[0;36m, line \u001b[0;32m5\u001b[0m\n\u001b[0;31m    def reconstruct_path(West Boca Medical Center, Boca Raton Regional Hospital):\u001b[0m\n\u001b[0m                              ^\u001b[0m\n\u001b[0;31mSyntaxError\u001b[0m\u001b[0;31m:\u001b[0m invalid syntax\n"
          ]
        }
      ]
    },
    {
      "cell_type": "markdown",
      "source": [
        "### please test the code using other hospitals."
      ],
      "metadata": {
        "id": "y3LTTmN_V-eR"
      }
    },
    {
      "cell_type": "code",
      "source": [
        "pip install osmnx --upgrade\n"
      ],
      "metadata": {
        "colab": {
          "base_uri": "https://localhost:8080/"
        },
        "id": "lwjCimTmvgq_",
        "outputId": "d3f3c1dd-6a40-495a-ea77-ab6c0aabae2c"
      },
      "execution_count": null,
      "outputs": [
        {
          "output_type": "stream",
          "name": "stdout",
          "text": [
            "Collecting osmnx\n",
            "  Downloading osmnx-1.9.1-py3-none-any.whl (104 kB)\n",
            "\u001b[2K     \u001b[90m━━━━━━━━━━━━━━━━━━━━━━━━━━━━━━━━━━━━━━━━\u001b[0m \u001b[32m104.3/104.3 kB\u001b[0m \u001b[31m2.5 MB/s\u001b[0m eta \u001b[36m0:00:00\u001b[0m\n",
            "\u001b[?25hRequirement already satisfied: geopandas>=0.12 in /usr/local/lib/python3.10/dist-packages (from osmnx) (0.13.2)\n",
            "Requirement already satisfied: networkx>=2.5 in /usr/local/lib/python3.10/dist-packages (from osmnx) (3.2.1)\n",
            "Requirement already satisfied: numpy>=1.20 in /usr/local/lib/python3.10/dist-packages (from osmnx) (1.23.5)\n",
            "Requirement already satisfied: pandas>=1.1 in /usr/local/lib/python3.10/dist-packages (from osmnx) (1.5.3)\n",
            "Requirement already satisfied: requests>=2.27 in /usr/local/lib/python3.10/dist-packages (from osmnx) (2.31.0)\n",
            "Requirement already satisfied: shapely>=2.0 in /usr/local/lib/python3.10/dist-packages (from osmnx) (2.0.2)\n",
            "Requirement already satisfied: fiona>=1.8.19 in /usr/local/lib/python3.10/dist-packages (from geopandas>=0.12->osmnx) (1.9.5)\n",
            "Requirement already satisfied: packaging in /usr/local/lib/python3.10/dist-packages (from geopandas>=0.12->osmnx) (23.2)\n",
            "Requirement already satisfied: pyproj>=3.0.1 in /usr/local/lib/python3.10/dist-packages (from geopandas>=0.12->osmnx) (3.6.1)\n",
            "Requirement already satisfied: python-dateutil>=2.8.1 in /usr/local/lib/python3.10/dist-packages (from pandas>=1.1->osmnx) (2.8.2)\n",
            "Requirement already satisfied: pytz>=2020.1 in /usr/local/lib/python3.10/dist-packages (from pandas>=1.1->osmnx) (2023.4)\n",
            "Requirement already satisfied: charset-normalizer<4,>=2 in /usr/local/lib/python3.10/dist-packages (from requests>=2.27->osmnx) (3.3.2)\n",
            "Requirement already satisfied: idna<4,>=2.5 in /usr/local/lib/python3.10/dist-packages (from requests>=2.27->osmnx) (3.6)\n",
            "Requirement already satisfied: urllib3<3,>=1.21.1 in /usr/local/lib/python3.10/dist-packages (from requests>=2.27->osmnx) (2.0.7)\n",
            "Requirement already satisfied: certifi>=2017.4.17 in /usr/local/lib/python3.10/dist-packages (from requests>=2.27->osmnx) (2024.2.2)\n",
            "Requirement already satisfied: attrs>=19.2.0 in /usr/local/lib/python3.10/dist-packages (from fiona>=1.8.19->geopandas>=0.12->osmnx) (23.2.0)\n",
            "Requirement already satisfied: click~=8.0 in /usr/local/lib/python3.10/dist-packages (from fiona>=1.8.19->geopandas>=0.12->osmnx) (8.1.7)\n",
            "Requirement already satisfied: click-plugins>=1.0 in /usr/local/lib/python3.10/dist-packages (from fiona>=1.8.19->geopandas>=0.12->osmnx) (1.1.1)\n",
            "Requirement already satisfied: cligj>=0.5 in /usr/local/lib/python3.10/dist-packages (from fiona>=1.8.19->geopandas>=0.12->osmnx) (0.7.2)\n",
            "Requirement already satisfied: six in /usr/local/lib/python3.10/dist-packages (from fiona>=1.8.19->geopandas>=0.12->osmnx) (1.16.0)\n",
            "Requirement already satisfied: setuptools in /usr/local/lib/python3.10/dist-packages (from fiona>=1.8.19->geopandas>=0.12->osmnx) (67.7.2)\n",
            "Installing collected packages: osmnx\n",
            "Successfully installed osmnx-1.9.1\n"
          ]
        }
      ]
    },
    {
      "cell_type": "markdown",
      "source": [
        "### Driving Distance In Meters"
      ],
      "metadata": {
        "id": "AB0ydhFUv8CK"
      }
    },
    {
      "cell_type": "code",
      "source": [
        "import osmnx as ox\n",
        "import networkx as nx\n",
        "\n",
        "# Ensure you're using the correct OSMnx version or update the code according to your version.\n",
        "# If necessary, update OSMnx: pip install osmnx --upgrade\n",
        "\n",
        "def get_shortest_path_by_road(hospital1_coords, hospital2_coords):\n",
        "    # Specify the network type and the location\n",
        "    G = ox.graph_from_point(((hospital1_coords[0] + hospital2_coords[0]) / 2,\n",
        "                             (hospital1_coords[1] + hospital2_coords[1]) / 2),\n",
        "                            dist=100000,  # Increased max size to 100 km for the bounding box\n",
        "                            dist_type=\"bbox\",\n",
        "                            network_type=\"drive\")\n",
        "\n",
        "    # Find the nearest nodes in the road network to the hospital coordinates\n",
        "    hospital1_node = ox.distance.nearest_nodes(G, X=hospital1_coords[1], Y=hospital1_coords[0])\n",
        "    hospital2_node = ox.distance.nearest_nodes(G, X=hospital2_coords[1], Y=hospital2_coords[0])\n",
        "\n",
        "    # Calculate the shortest path\n",
        "    shortest_path_nodes = nx.shortest_path(G, hospital1_node, hospital2_node, weight='length')\n",
        "    distance = sum(ox.utils_graph.get_route_edge_attributes(G, shortest_path_nodes, 'length'))\n",
        "\n",
        "    # Plot the route\n",
        "    route_map = ox.plot_route_folium(G, shortest_path_nodes)\n",
        "\n",
        "    return distance, route_map\n",
        "\n",
        "# Define the coordinates (latitude, longitude) of the hospitals\n",
        "# Replace these example coordinates with the actual coordinates\n",
        "hospital1_coords = (26.3795, -80.2070)  # Example coordinates for West Boca Medical Center\n",
        "hospital2_coords = (26.3587, -80.0831)  # Example coordinates for Boca Raton Regional Hospital\n",
        "\n",
        "# Calculate the distance\n",
        "distance, route_map = get_shortest_path_by_road(hospital1_coords, hospital2_coords)\n",
        "print(f\"The shortest driving distance between the two hospitals is {distance} meters.\")\n"
      ],
      "metadata": {
        "colab": {
          "base_uri": "https://localhost:8080/"
        },
        "id": "22Q_rS2evnT9",
        "outputId": "e53b96c7-dac9-4690-8d92-70aeefd72b50"
      },
      "execution_count": null,
      "outputs": [
        {
          "output_type": "stream",
          "name": "stdout",
          "text": [
            "The shortest driving distance between the two hospitals is 8498.808000000003 meters.\n"
          ]
        },
        {
          "output_type": "stream",
          "name": "stderr",
          "text": [
            "<ipython-input-14-d7d0fb7dcd2d>:17: FutureWarning: The `get_route_edge_attributes` function has been deprecated and will be removed in the v2.0.0 release. Use the `route_to_gdf` function instead.\n",
            "  distance = sum(ox.utils_graph.get_route_edge_attributes(G, shortest_path_nodes, 'length'))\n",
            "<ipython-input-14-d7d0fb7dcd2d>:20: FutureWarning: The `folium` module has been deprecated and will be removed in the v2.0.0 release. You can generate and explore interactive web maps of graph nodes, edges, and/or routes automatically using GeoPandas.GeoDataFrame.explore instead, for example like: `ox.graph_to_gdfs(G, nodes=False).explore()`. See the OSMnx examples gallery for complete details and demonstrations.\n",
            "  route_map = ox.plot_route_folium(G, shortest_path_nodes)\n"
          ]
        }
      ]
    },
    {
      "cell_type": "markdown",
      "source": [
        "### Driving Distance in Miles"
      ],
      "metadata": {
        "id": "niML6W9TwYHw"
      }
    },
    {
      "cell_type": "code",
      "source": [
        "import osmnx as ox\n",
        "import networkx as nx\n",
        "\n",
        "def get_shortest_path_by_road(hospital1_coords, hospital2_coords):\n",
        "    # Specify the network type and the location\n",
        "    G = ox.graph_from_point(((hospital1_coords[0] + hospital2_coords[0]) / 2,\n",
        "                             (hospital1_coords[1] + hospital2_coords[1]) / 2),\n",
        "                            dist=100000,  # Increased max size to 100 km for the bounding box\n",
        "                            dist_type=\"bbox\",\n",
        "                            network_type=\"drive\")\n",
        "    hospital1_node = ox.distance.nearest_nodes(G, X=hospital1_coords[1], Y=hospital1_coords[0])\n",
        "    hospital2_node = ox.distance.nearest_nodes(G, X=hospital2_coords[1], Y=hospital2_coords[0])\n",
        "\n",
        "    shortest_path_nodes = nx.shortest_path(G, hospital1_node, hospital2_node, weight='length')\n",
        "    distance_meters = sum(ox.utils_graph.get_route_edge_attributes(G, shortest_path_nodes, 'length'))\n",
        "\n",
        "    # Convert distance from meters to miles\n",
        "    distance_miles = distance_meters * 0.000621371\n",
        "\n",
        "    route_map = ox.plot_route_folium(G, shortest_path_nodes)\n",
        "\n",
        "    return distance_miles, route_map\n",
        "\n",
        "# Define the coordinates (latitude, longitude) of the hospitals\n",
        "hospital1_coords = (26.3795, -80.2070)  # Example coordinates for West Boca Medical Center\n",
        "hospital2_coords = (26.3587, -80.0831)  # Example coordinates for Boca Raton Regional Hospital\n",
        "\n",
        "# Calculate the distance\n",
        "distance_miles, route_map = get_shortest_path_by_road(hospital1_coords, hospital2_coords)\n",
        "print(f\"The shortest driving distance between the two hospitals is {distance_miles} miles.\")\n"
      ],
      "metadata": {
        "colab": {
          "base_uri": "https://localhost:8080/",
          "height": 378
        },
        "id": "if4McfaQwXQM",
        "outputId": "851f73db-f00c-46b4-d5dc-bade3125c929"
      },
      "execution_count": null,
      "outputs": [
        {
          "output_type": "error",
          "ename": "ModuleNotFoundError",
          "evalue": "No module named 'osmnx'",
          "traceback": [
            "\u001b[0;31m---------------------------------------------------------------------------\u001b[0m",
            "\u001b[0;31mModuleNotFoundError\u001b[0m                       Traceback (most recent call last)",
            "\u001b[0;32m<ipython-input-3-1aa225d2fd76>\u001b[0m in \u001b[0;36m<cell line: 1>\u001b[0;34m()\u001b[0m\n\u001b[0;32m----> 1\u001b[0;31m \u001b[0;32mimport\u001b[0m \u001b[0mosmnx\u001b[0m \u001b[0;32mas\u001b[0m \u001b[0mox\u001b[0m\u001b[0;34m\u001b[0m\u001b[0;34m\u001b[0m\u001b[0m\n\u001b[0m\u001b[1;32m      2\u001b[0m \u001b[0;32mimport\u001b[0m \u001b[0mnetworkx\u001b[0m \u001b[0;32mas\u001b[0m \u001b[0mnx\u001b[0m\u001b[0;34m\u001b[0m\u001b[0;34m\u001b[0m\u001b[0m\n\u001b[1;32m      3\u001b[0m \u001b[0;34m\u001b[0m\u001b[0m\n\u001b[1;32m      4\u001b[0m \u001b[0;32mdef\u001b[0m \u001b[0mget_shortest_path_by_road\u001b[0m\u001b[0;34m(\u001b[0m\u001b[0mhospital1_coords\u001b[0m\u001b[0;34m,\u001b[0m \u001b[0mhospital2_coords\u001b[0m\u001b[0;34m)\u001b[0m\u001b[0;34m:\u001b[0m\u001b[0;34m\u001b[0m\u001b[0;34m\u001b[0m\u001b[0m\n\u001b[1;32m      5\u001b[0m     \u001b[0;31m# Specify the network type and the location\u001b[0m\u001b[0;34m\u001b[0m\u001b[0;34m\u001b[0m\u001b[0m\n",
            "\u001b[0;31mModuleNotFoundError\u001b[0m: No module named 'osmnx'",
            "",
            "\u001b[0;31m---------------------------------------------------------------------------\u001b[0;32m\nNOTE: If your import is failing due to a missing package, you can\nmanually install dependencies using either !pip or !apt.\n\nTo view examples of installing some common dependencies, click the\n\"Open Examples\" button below.\n\u001b[0;31m---------------------------------------------------------------------------\u001b[0m\n"
          ],
          "errorDetails": {
            "actions": [
              {
                "action": "open_url",
                "actionText": "Open Examples",
                "url": "/notebooks/snippets/importing_libraries.ipynb"
              }
            ]
          }
        }
      ]
    },
    {
      "cell_type": "code",
      "source": [
        "import osmnx as ox\n",
        "import networkx as nx\n",
        "\n",
        "def get_shortest_path_by_road(hospital1_coords, hospital2_coords):\n",
        "    # Specify the network type and the location\n",
        "    G = ox.graph_from_point(((hospital1_coords[0] + hospital2_coords[0]) / 2,\n",
        "                             (hospital1_coords[1] + hospital2_coords[1]) / 2),\n",
        "                            dist=1000000,  # Increased max size to 100 km for the bounding box\n",
        "                            dist_type=\"bbox\",\n",
        "                            network_type=\"drive\")\n",
        "    hospital1_node = ox.distance.nearest_nodes(G, X=hospital1_coords[1], Y=hospital1_coords[0])\n",
        "    hospital2_node = ox.distance.nearest_nodes(G, X=hospital2_coords[1], Y=hospital2_coords[0])\n",
        "\n",
        "    shortest_path_nodes = nx.shortest_path(G, hospital1_node, hospital2_node, weight='length')\n",
        "    distance_meters = sum(ox.utils_graph.get_route_edge_attributes(G, shortest_path_nodes, 'length'))\n",
        "\n",
        "    # Convert distance from meters to miles\n",
        "    distance_miles = distance_meters * 0.000621371\n",
        "\n",
        "    route_map = ox.plot_route_folium(G, shortest_path_nodes)\n",
        "\n",
        "    return distance_miles, route_map\n",
        "\n",
        "# Define the coordinates (latitude, longitude) of the hospitals\n",
        "hospital1_coords = (26.5046724, -80.07016956595065)  # Example coordinates for Bethesda Hospital East\n",
        "hospital2_coords = (28.52550115, -81.37826689467641)  # Example coordinates for Orlando Regional Medical Center\n",
        "\n",
        "# Calculate the distance\n",
        "distance_miles, route_map = get_shortest_path_by_road(hospital1_coords, hospital2_coords)\n",
        "print(f\"The shortest driving distance between the two hospitals is {distance_miles} miles.\")\n"
      ],
      "metadata": {
        "colab": {
          "base_uri": "https://localhost:8080/",
          "height": 439
        },
        "id": "s_AGr9htwnvK",
        "outputId": "924c9b4a-ae2f-4a1d-f69e-774650d5e64e"
      },
      "execution_count": null,
      "outputs": [
        {
          "output_type": "stream",
          "name": "stderr",
          "text": [
            "/usr/local/lib/python3.10/dist-packages/osmnx/_overpass.py:211: UserWarning: This area is 1,597 times your configured Overpass max query area size. It will automatically be divided up into multiple sub-queries accordingly. This may take a long time.\n",
            "  multi_poly_proj = utils_geo._consolidate_subdivide_geometry(poly_proj)\n"
          ]
        },
        {
          "output_type": "error",
          "ename": "KeyboardInterrupt",
          "evalue": "",
          "traceback": [
            "\u001b[0;31m---------------------------------------------------------------------------\u001b[0m",
            "\u001b[0;31mKeyboardInterrupt\u001b[0m                         Traceback (most recent call last)",
            "\u001b[0;32m<ipython-input-21-1078fb438aa9>\u001b[0m in \u001b[0;36m<cell line: 29>\u001b[0;34m()\u001b[0m\n\u001b[1;32m     27\u001b[0m \u001b[0;34m\u001b[0m\u001b[0m\n\u001b[1;32m     28\u001b[0m \u001b[0;31m# Calculate the distance\u001b[0m\u001b[0;34m\u001b[0m\u001b[0;34m\u001b[0m\u001b[0m\n\u001b[0;32m---> 29\u001b[0;31m \u001b[0mdistance_miles\u001b[0m\u001b[0;34m,\u001b[0m \u001b[0mroute_map\u001b[0m \u001b[0;34m=\u001b[0m \u001b[0mget_shortest_path_by_road\u001b[0m\u001b[0;34m(\u001b[0m\u001b[0mhospital1_coords\u001b[0m\u001b[0;34m,\u001b[0m \u001b[0mhospital2_coords\u001b[0m\u001b[0;34m)\u001b[0m\u001b[0;34m\u001b[0m\u001b[0;34m\u001b[0m\u001b[0m\n\u001b[0m\u001b[1;32m     30\u001b[0m \u001b[0mprint\u001b[0m\u001b[0;34m(\u001b[0m\u001b[0;34mf\"The shortest driving distance between the two hospitals is {distance_miles} miles.\"\u001b[0m\u001b[0;34m)\u001b[0m\u001b[0;34m\u001b[0m\u001b[0;34m\u001b[0m\u001b[0m\n",
            "\u001b[0;32m<ipython-input-21-1078fb438aa9>\u001b[0m in \u001b[0;36mget_shortest_path_by_road\u001b[0;34m(hospital1_coords, hospital2_coords)\u001b[0m\n\u001b[1;32m      4\u001b[0m \u001b[0;32mdef\u001b[0m \u001b[0mget_shortest_path_by_road\u001b[0m\u001b[0;34m(\u001b[0m\u001b[0mhospital1_coords\u001b[0m\u001b[0;34m,\u001b[0m \u001b[0mhospital2_coords\u001b[0m\u001b[0;34m)\u001b[0m\u001b[0;34m:\u001b[0m\u001b[0;34m\u001b[0m\u001b[0;34m\u001b[0m\u001b[0m\n\u001b[1;32m      5\u001b[0m     \u001b[0;31m# Specify the network type and the location\u001b[0m\u001b[0;34m\u001b[0m\u001b[0;34m\u001b[0m\u001b[0m\n\u001b[0;32m----> 6\u001b[0;31m     G = ox.graph_from_point(((hospital1_coords[0] + hospital2_coords[0]) / 2, \n\u001b[0m\u001b[1;32m      7\u001b[0m                              (hospital1_coords[1] + hospital2_coords[1]) / 2), \n\u001b[1;32m      8\u001b[0m                             \u001b[0mdist\u001b[0m\u001b[0;34m=\u001b[0m\u001b[0;36m1000000\u001b[0m\u001b[0;34m,\u001b[0m  \u001b[0;31m# Increased max size to 100 km for the bounding box\u001b[0m\u001b[0;34m\u001b[0m\u001b[0;34m\u001b[0m\u001b[0m\n",
            "\u001b[0;32m/usr/local/lib/python3.10/dist-packages/osmnx/graph.py\u001b[0m in \u001b[0;36mgraph_from_point\u001b[0;34m(center_point, dist, dist_type, network_type, simplify, retain_all, truncate_by_edge, clean_periphery, custom_filter)\u001b[0m\n\u001b[1;32m    183\u001b[0m \u001b[0;34m\u001b[0m\u001b[0m\n\u001b[1;32m    184\u001b[0m     \u001b[0;31m# create a graph from the bounding box\u001b[0m\u001b[0;34m\u001b[0m\u001b[0;34m\u001b[0m\u001b[0m\n\u001b[0;32m--> 185\u001b[0;31m     G = graph_from_bbox(\n\u001b[0m\u001b[1;32m    186\u001b[0m         \u001b[0mbbox\u001b[0m\u001b[0;34m=\u001b[0m\u001b[0mbbox\u001b[0m\u001b[0;34m,\u001b[0m\u001b[0;34m\u001b[0m\u001b[0;34m\u001b[0m\u001b[0m\n\u001b[1;32m    187\u001b[0m         \u001b[0mnetwork_type\u001b[0m\u001b[0;34m=\u001b[0m\u001b[0mnetwork_type\u001b[0m\u001b[0;34m,\u001b[0m\u001b[0;34m\u001b[0m\u001b[0;34m\u001b[0m\u001b[0m\n",
            "\u001b[0;32m/usr/local/lib/python3.10/dist-packages/osmnx/graph.py\u001b[0m in \u001b[0;36mgraph_from_bbox\u001b[0;34m(north, south, east, west, bbox, network_type, simplify, retain_all, truncate_by_edge, clean_periphery, custom_filter)\u001b[0m\n\u001b[1;32m    104\u001b[0m \u001b[0;34m\u001b[0m\u001b[0m\n\u001b[1;32m    105\u001b[0m     \u001b[0;31m# create graph using this polygon geometry\u001b[0m\u001b[0;34m\u001b[0m\u001b[0;34m\u001b[0m\u001b[0m\n\u001b[0;32m--> 106\u001b[0;31m     G = graph_from_polygon(\n\u001b[0m\u001b[1;32m    107\u001b[0m         \u001b[0mpolygon\u001b[0m\u001b[0;34m,\u001b[0m\u001b[0;34m\u001b[0m\u001b[0;34m\u001b[0m\u001b[0m\n\u001b[1;32m    108\u001b[0m         \u001b[0mnetwork_type\u001b[0m\u001b[0;34m=\u001b[0m\u001b[0mnetwork_type\u001b[0m\u001b[0;34m,\u001b[0m\u001b[0;34m\u001b[0m\u001b[0;34m\u001b[0m\u001b[0m\n",
            "\u001b[0;32m/usr/local/lib/python3.10/dist-packages/osmnx/graph.py\u001b[0m in \u001b[0;36mgraph_from_polygon\u001b[0;34m(polygon, network_type, simplify, retain_all, truncate_by_edge, clean_periphery, custom_filter)\u001b[0m\n\u001b[1;32m    493\u001b[0m         \u001b[0;31m# create buffered graph from the downloaded data\u001b[0m\u001b[0;34m\u001b[0m\u001b[0;34m\u001b[0m\u001b[0m\n\u001b[1;32m    494\u001b[0m         \u001b[0mbidirectional\u001b[0m \u001b[0;34m=\u001b[0m \u001b[0mnetwork_type\u001b[0m \u001b[0;32min\u001b[0m \u001b[0msettings\u001b[0m\u001b[0;34m.\u001b[0m\u001b[0mbidirectional_network_types\u001b[0m\u001b[0;34m\u001b[0m\u001b[0;34m\u001b[0m\u001b[0m\n\u001b[0;32m--> 495\u001b[0;31m         \u001b[0mG_buff\u001b[0m \u001b[0;34m=\u001b[0m \u001b[0m_create_graph\u001b[0m\u001b[0;34m(\u001b[0m\u001b[0mresponse_jsons\u001b[0m\u001b[0;34m,\u001b[0m \u001b[0mretain_all\u001b[0m\u001b[0;34m=\u001b[0m\u001b[0;32mTrue\u001b[0m\u001b[0;34m,\u001b[0m \u001b[0mbidirectional\u001b[0m\u001b[0;34m=\u001b[0m\u001b[0mbidirectional\u001b[0m\u001b[0;34m)\u001b[0m\u001b[0;34m\u001b[0m\u001b[0;34m\u001b[0m\u001b[0m\n\u001b[0m\u001b[1;32m    496\u001b[0m \u001b[0;34m\u001b[0m\u001b[0m\n\u001b[1;32m    497\u001b[0m         \u001b[0;31m# truncate buffered graph to the buffered polygon and retain_all for\u001b[0m\u001b[0;34m\u001b[0m\u001b[0;34m\u001b[0m\u001b[0m\n",
            "\u001b[0;32m/usr/local/lib/python3.10/dist-packages/osmnx/graph.py\u001b[0m in \u001b[0;36m_create_graph\u001b[0;34m(response_jsons, retain_all, bidirectional)\u001b[0m\n\u001b[1;32m    621\u001b[0m \u001b[0;34m\u001b[0m\u001b[0m\n\u001b[1;32m    622\u001b[0m     \u001b[0;31m# consume response_jsons generator to download data from server\u001b[0m\u001b[0;34m\u001b[0m\u001b[0;34m\u001b[0m\u001b[0m\n\u001b[0;32m--> 623\u001b[0;31m     \u001b[0;32mfor\u001b[0m \u001b[0mresponse_json\u001b[0m \u001b[0;32min\u001b[0m \u001b[0mresponse_jsons\u001b[0m\u001b[0;34m:\u001b[0m\u001b[0;34m\u001b[0m\u001b[0;34m\u001b[0m\u001b[0m\n\u001b[0m\u001b[1;32m    624\u001b[0m         \u001b[0mresponse_count\u001b[0m \u001b[0;34m+=\u001b[0m \u001b[0;36m1\u001b[0m\u001b[0;34m\u001b[0m\u001b[0;34m\u001b[0m\u001b[0m\n\u001b[1;32m    625\u001b[0m \u001b[0;34m\u001b[0m\u001b[0m\n",
            "\u001b[0;32m/usr/local/lib/python3.10/dist-packages/osmnx/_overpass.py\u001b[0m in \u001b[0;36m_download_overpass_network\u001b[0;34m(polygon, network_type, custom_filter)\u001b[0m\n\u001b[1;32m    324\u001b[0m     \u001b[0;32mfor\u001b[0m \u001b[0mpolygon_coord_str\u001b[0m \u001b[0;32min\u001b[0m \u001b[0mpolygon_coord_strs\u001b[0m\u001b[0;34m:\u001b[0m\u001b[0;34m\u001b[0m\u001b[0;34m\u001b[0m\u001b[0m\n\u001b[1;32m    325\u001b[0m         \u001b[0mquery_str\u001b[0m \u001b[0;34m=\u001b[0m \u001b[0;34mf\"{overpass_settings};(way{osm_filter}(poly:{polygon_coord_str!r});>;);out;\"\u001b[0m\u001b[0;34m\u001b[0m\u001b[0;34m\u001b[0m\u001b[0m\n\u001b[0;32m--> 326\u001b[0;31m         \u001b[0;32myield\u001b[0m \u001b[0m_overpass_request\u001b[0m\u001b[0;34m(\u001b[0m\u001b[0mdata\u001b[0m\u001b[0;34m=\u001b[0m\u001b[0;34m{\u001b[0m\u001b[0;34m\"data\"\u001b[0m\u001b[0;34m:\u001b[0m \u001b[0mquery_str\u001b[0m\u001b[0;34m}\u001b[0m\u001b[0;34m)\u001b[0m\u001b[0;34m\u001b[0m\u001b[0;34m\u001b[0m\u001b[0m\n\u001b[0m\u001b[1;32m    327\u001b[0m \u001b[0;34m\u001b[0m\u001b[0m\n\u001b[1;32m    328\u001b[0m \u001b[0;34m\u001b[0m\u001b[0m\n",
            "\u001b[0;32m/usr/local/lib/python3.10/dist-packages/osmnx/_overpass.py\u001b[0m in \u001b[0;36m_overpass_request\u001b[0;34m(data, pause, error_pause)\u001b[0m\n\u001b[1;32m    391\u001b[0m     \u001b[0;31m# transmit the HTTP POST request\u001b[0m\u001b[0;34m\u001b[0m\u001b[0;34m\u001b[0m\u001b[0m\n\u001b[1;32m    392\u001b[0m     \u001b[0mutils\u001b[0m\u001b[0;34m.\u001b[0m\u001b[0mlog\u001b[0m\u001b[0;34m(\u001b[0m\u001b[0;34mf\"Post {prepared_url} with timeout={settings.timeout}\"\u001b[0m\u001b[0;34m)\u001b[0m\u001b[0;34m\u001b[0m\u001b[0;34m\u001b[0m\u001b[0m\n\u001b[0;32m--> 393\u001b[0;31m     response = requests.post(\n\u001b[0m\u001b[1;32m    394\u001b[0m         \u001b[0murl\u001b[0m\u001b[0;34m,\u001b[0m\u001b[0;34m\u001b[0m\u001b[0;34m\u001b[0m\u001b[0m\n\u001b[1;32m    395\u001b[0m         \u001b[0mdata\u001b[0m\u001b[0;34m=\u001b[0m\u001b[0mdata\u001b[0m\u001b[0;34m,\u001b[0m\u001b[0;34m\u001b[0m\u001b[0;34m\u001b[0m\u001b[0m\n",
            "\u001b[0;32m/usr/local/lib/python3.10/dist-packages/requests/api.py\u001b[0m in \u001b[0;36mpost\u001b[0;34m(url, data, json, **kwargs)\u001b[0m\n\u001b[1;32m    113\u001b[0m     \"\"\"\n\u001b[1;32m    114\u001b[0m \u001b[0;34m\u001b[0m\u001b[0m\n\u001b[0;32m--> 115\u001b[0;31m     \u001b[0;32mreturn\u001b[0m \u001b[0mrequest\u001b[0m\u001b[0;34m(\u001b[0m\u001b[0;34m\"post\"\u001b[0m\u001b[0;34m,\u001b[0m \u001b[0murl\u001b[0m\u001b[0;34m,\u001b[0m \u001b[0mdata\u001b[0m\u001b[0;34m=\u001b[0m\u001b[0mdata\u001b[0m\u001b[0;34m,\u001b[0m \u001b[0mjson\u001b[0m\u001b[0;34m=\u001b[0m\u001b[0mjson\u001b[0m\u001b[0;34m,\u001b[0m \u001b[0;34m**\u001b[0m\u001b[0mkwargs\u001b[0m\u001b[0;34m)\u001b[0m\u001b[0;34m\u001b[0m\u001b[0;34m\u001b[0m\u001b[0m\n\u001b[0m\u001b[1;32m    116\u001b[0m \u001b[0;34m\u001b[0m\u001b[0m\n\u001b[1;32m    117\u001b[0m \u001b[0;34m\u001b[0m\u001b[0m\n",
            "\u001b[0;32m/usr/local/lib/python3.10/dist-packages/requests/api.py\u001b[0m in \u001b[0;36mrequest\u001b[0;34m(method, url, **kwargs)\u001b[0m\n\u001b[1;32m     57\u001b[0m     \u001b[0;31m# cases, and look like a memory leak in others.\u001b[0m\u001b[0;34m\u001b[0m\u001b[0;34m\u001b[0m\u001b[0m\n\u001b[1;32m     58\u001b[0m     \u001b[0;32mwith\u001b[0m \u001b[0msessions\u001b[0m\u001b[0;34m.\u001b[0m\u001b[0mSession\u001b[0m\u001b[0;34m(\u001b[0m\u001b[0;34m)\u001b[0m \u001b[0;32mas\u001b[0m \u001b[0msession\u001b[0m\u001b[0;34m:\u001b[0m\u001b[0;34m\u001b[0m\u001b[0;34m\u001b[0m\u001b[0m\n\u001b[0;32m---> 59\u001b[0;31m         \u001b[0;32mreturn\u001b[0m \u001b[0msession\u001b[0m\u001b[0;34m.\u001b[0m\u001b[0mrequest\u001b[0m\u001b[0;34m(\u001b[0m\u001b[0mmethod\u001b[0m\u001b[0;34m=\u001b[0m\u001b[0mmethod\u001b[0m\u001b[0;34m,\u001b[0m \u001b[0murl\u001b[0m\u001b[0;34m=\u001b[0m\u001b[0murl\u001b[0m\u001b[0;34m,\u001b[0m \u001b[0;34m**\u001b[0m\u001b[0mkwargs\u001b[0m\u001b[0;34m)\u001b[0m\u001b[0;34m\u001b[0m\u001b[0;34m\u001b[0m\u001b[0m\n\u001b[0m\u001b[1;32m     60\u001b[0m \u001b[0;34m\u001b[0m\u001b[0m\n\u001b[1;32m     61\u001b[0m \u001b[0;34m\u001b[0m\u001b[0m\n",
            "\u001b[0;32m/usr/local/lib/python3.10/dist-packages/requests/sessions.py\u001b[0m in \u001b[0;36mrequest\u001b[0;34m(self, method, url, params, data, headers, cookies, files, auth, timeout, allow_redirects, proxies, hooks, stream, verify, cert, json)\u001b[0m\n\u001b[1;32m    587\u001b[0m         }\n\u001b[1;32m    588\u001b[0m         \u001b[0msend_kwargs\u001b[0m\u001b[0;34m.\u001b[0m\u001b[0mupdate\u001b[0m\u001b[0;34m(\u001b[0m\u001b[0msettings\u001b[0m\u001b[0;34m)\u001b[0m\u001b[0;34m\u001b[0m\u001b[0;34m\u001b[0m\u001b[0m\n\u001b[0;32m--> 589\u001b[0;31m         \u001b[0mresp\u001b[0m \u001b[0;34m=\u001b[0m \u001b[0mself\u001b[0m\u001b[0;34m.\u001b[0m\u001b[0msend\u001b[0m\u001b[0;34m(\u001b[0m\u001b[0mprep\u001b[0m\u001b[0;34m,\u001b[0m \u001b[0;34m**\u001b[0m\u001b[0msend_kwargs\u001b[0m\u001b[0;34m)\u001b[0m\u001b[0;34m\u001b[0m\u001b[0;34m\u001b[0m\u001b[0m\n\u001b[0m\u001b[1;32m    590\u001b[0m \u001b[0;34m\u001b[0m\u001b[0m\n\u001b[1;32m    591\u001b[0m         \u001b[0;32mreturn\u001b[0m \u001b[0mresp\u001b[0m\u001b[0;34m\u001b[0m\u001b[0;34m\u001b[0m\u001b[0m\n",
            "\u001b[0;32m/usr/local/lib/python3.10/dist-packages/requests/sessions.py\u001b[0m in \u001b[0;36msend\u001b[0;34m(self, request, **kwargs)\u001b[0m\n\u001b[1;32m    701\u001b[0m \u001b[0;34m\u001b[0m\u001b[0m\n\u001b[1;32m    702\u001b[0m         \u001b[0;31m# Send the request\u001b[0m\u001b[0;34m\u001b[0m\u001b[0;34m\u001b[0m\u001b[0m\n\u001b[0;32m--> 703\u001b[0;31m         \u001b[0mr\u001b[0m \u001b[0;34m=\u001b[0m \u001b[0madapter\u001b[0m\u001b[0;34m.\u001b[0m\u001b[0msend\u001b[0m\u001b[0;34m(\u001b[0m\u001b[0mrequest\u001b[0m\u001b[0;34m,\u001b[0m \u001b[0;34m**\u001b[0m\u001b[0mkwargs\u001b[0m\u001b[0;34m)\u001b[0m\u001b[0;34m\u001b[0m\u001b[0;34m\u001b[0m\u001b[0m\n\u001b[0m\u001b[1;32m    704\u001b[0m \u001b[0;34m\u001b[0m\u001b[0m\n\u001b[1;32m    705\u001b[0m         \u001b[0;31m# Total elapsed time of the request (approximately)\u001b[0m\u001b[0;34m\u001b[0m\u001b[0;34m\u001b[0m\u001b[0m\n",
            "\u001b[0;32m/usr/local/lib/python3.10/dist-packages/requests/adapters.py\u001b[0m in \u001b[0;36msend\u001b[0;34m(self, request, stream, timeout, verify, cert, proxies)\u001b[0m\n\u001b[1;32m    484\u001b[0m \u001b[0;34m\u001b[0m\u001b[0m\n\u001b[1;32m    485\u001b[0m         \u001b[0;32mtry\u001b[0m\u001b[0;34m:\u001b[0m\u001b[0;34m\u001b[0m\u001b[0;34m\u001b[0m\u001b[0m\n\u001b[0;32m--> 486\u001b[0;31m             resp = conn.urlopen(\n\u001b[0m\u001b[1;32m    487\u001b[0m                 \u001b[0mmethod\u001b[0m\u001b[0;34m=\u001b[0m\u001b[0mrequest\u001b[0m\u001b[0;34m.\u001b[0m\u001b[0mmethod\u001b[0m\u001b[0;34m,\u001b[0m\u001b[0;34m\u001b[0m\u001b[0;34m\u001b[0m\u001b[0m\n\u001b[1;32m    488\u001b[0m                 \u001b[0murl\u001b[0m\u001b[0;34m=\u001b[0m\u001b[0murl\u001b[0m\u001b[0;34m,\u001b[0m\u001b[0;34m\u001b[0m\u001b[0;34m\u001b[0m\u001b[0m\n",
            "\u001b[0;32m/usr/local/lib/python3.10/dist-packages/urllib3/connectionpool.py\u001b[0m in \u001b[0;36murlopen\u001b[0;34m(self, method, url, body, headers, retries, redirect, assert_same_host, timeout, pool_timeout, release_conn, chunked, body_pos, preload_content, decode_content, **response_kw)\u001b[0m\n\u001b[1;32m    789\u001b[0m \u001b[0;34m\u001b[0m\u001b[0m\n\u001b[1;32m    790\u001b[0m             \u001b[0;31m# Make the request on the HTTPConnection object\u001b[0m\u001b[0;34m\u001b[0m\u001b[0;34m\u001b[0m\u001b[0m\n\u001b[0;32m--> 791\u001b[0;31m             response = self._make_request(\n\u001b[0m\u001b[1;32m    792\u001b[0m                 \u001b[0mconn\u001b[0m\u001b[0;34m,\u001b[0m\u001b[0;34m\u001b[0m\u001b[0;34m\u001b[0m\u001b[0m\n\u001b[1;32m    793\u001b[0m                 \u001b[0mmethod\u001b[0m\u001b[0;34m,\u001b[0m\u001b[0;34m\u001b[0m\u001b[0;34m\u001b[0m\u001b[0m\n",
            "\u001b[0;32m/usr/local/lib/python3.10/dist-packages/urllib3/connectionpool.py\u001b[0m in \u001b[0;36m_make_request\u001b[0;34m(self, conn, method, url, body, headers, retries, timeout, chunked, response_conn, preload_content, decode_content, enforce_content_length)\u001b[0m\n\u001b[1;32m    466\u001b[0m             \u001b[0;31m# Trigger any extra validation we need to do.\u001b[0m\u001b[0;34m\u001b[0m\u001b[0;34m\u001b[0m\u001b[0m\n\u001b[1;32m    467\u001b[0m             \u001b[0;32mtry\u001b[0m\u001b[0;34m:\u001b[0m\u001b[0;34m\u001b[0m\u001b[0;34m\u001b[0m\u001b[0m\n\u001b[0;32m--> 468\u001b[0;31m                 \u001b[0mself\u001b[0m\u001b[0;34m.\u001b[0m\u001b[0m_validate_conn\u001b[0m\u001b[0;34m(\u001b[0m\u001b[0mconn\u001b[0m\u001b[0;34m)\u001b[0m\u001b[0;34m\u001b[0m\u001b[0;34m\u001b[0m\u001b[0m\n\u001b[0m\u001b[1;32m    469\u001b[0m             \u001b[0;32mexcept\u001b[0m \u001b[0;34m(\u001b[0m\u001b[0mSocketTimeout\u001b[0m\u001b[0;34m,\u001b[0m \u001b[0mBaseSSLError\u001b[0m\u001b[0;34m)\u001b[0m \u001b[0;32mas\u001b[0m \u001b[0me\u001b[0m\u001b[0;34m:\u001b[0m\u001b[0;34m\u001b[0m\u001b[0;34m\u001b[0m\u001b[0m\n\u001b[1;32m    470\u001b[0m                 \u001b[0mself\u001b[0m\u001b[0;34m.\u001b[0m\u001b[0m_raise_timeout\u001b[0m\u001b[0;34m(\u001b[0m\u001b[0merr\u001b[0m\u001b[0;34m=\u001b[0m\u001b[0me\u001b[0m\u001b[0;34m,\u001b[0m \u001b[0murl\u001b[0m\u001b[0;34m=\u001b[0m\u001b[0murl\u001b[0m\u001b[0;34m,\u001b[0m \u001b[0mtimeout_value\u001b[0m\u001b[0;34m=\u001b[0m\u001b[0mconn\u001b[0m\u001b[0;34m.\u001b[0m\u001b[0mtimeout\u001b[0m\u001b[0;34m)\u001b[0m\u001b[0;34m\u001b[0m\u001b[0;34m\u001b[0m\u001b[0m\n",
            "\u001b[0;32m/usr/local/lib/python3.10/dist-packages/urllib3/connectionpool.py\u001b[0m in \u001b[0;36m_validate_conn\u001b[0;34m(self, conn)\u001b[0m\n\u001b[1;32m   1095\u001b[0m         \u001b[0;31m# Force connect early to allow us to validate the connection.\u001b[0m\u001b[0;34m\u001b[0m\u001b[0;34m\u001b[0m\u001b[0m\n\u001b[1;32m   1096\u001b[0m         \u001b[0;32mif\u001b[0m \u001b[0mconn\u001b[0m\u001b[0;34m.\u001b[0m\u001b[0mis_closed\u001b[0m\u001b[0;34m:\u001b[0m\u001b[0;34m\u001b[0m\u001b[0;34m\u001b[0m\u001b[0m\n\u001b[0;32m-> 1097\u001b[0;31m             \u001b[0mconn\u001b[0m\u001b[0;34m.\u001b[0m\u001b[0mconnect\u001b[0m\u001b[0;34m(\u001b[0m\u001b[0;34m)\u001b[0m\u001b[0;34m\u001b[0m\u001b[0;34m\u001b[0m\u001b[0m\n\u001b[0m\u001b[1;32m   1098\u001b[0m \u001b[0;34m\u001b[0m\u001b[0m\n\u001b[1;32m   1099\u001b[0m         \u001b[0;32mif\u001b[0m \u001b[0;32mnot\u001b[0m \u001b[0mconn\u001b[0m\u001b[0;34m.\u001b[0m\u001b[0mis_verified\u001b[0m\u001b[0;34m:\u001b[0m\u001b[0;34m\u001b[0m\u001b[0;34m\u001b[0m\u001b[0m\n",
            "\u001b[0;32m/usr/local/lib/python3.10/dist-packages/urllib3/connection.py\u001b[0m in \u001b[0;36mconnect\u001b[0;34m(self)\u001b[0m\n\u001b[1;32m    640\u001b[0m             )\n\u001b[1;32m    641\u001b[0m \u001b[0;34m\u001b[0m\u001b[0m\n\u001b[0;32m--> 642\u001b[0;31m         sock_and_verified = _ssl_wrap_socket_and_match_hostname(\n\u001b[0m\u001b[1;32m    643\u001b[0m             \u001b[0msock\u001b[0m\u001b[0;34m=\u001b[0m\u001b[0msock\u001b[0m\u001b[0;34m,\u001b[0m\u001b[0;34m\u001b[0m\u001b[0;34m\u001b[0m\u001b[0m\n\u001b[1;32m    644\u001b[0m             \u001b[0mcert_reqs\u001b[0m\u001b[0;34m=\u001b[0m\u001b[0mself\u001b[0m\u001b[0;34m.\u001b[0m\u001b[0mcert_reqs\u001b[0m\u001b[0;34m,\u001b[0m\u001b[0;34m\u001b[0m\u001b[0;34m\u001b[0m\u001b[0m\n",
            "\u001b[0;32m/usr/local/lib/python3.10/dist-packages/urllib3/connection.py\u001b[0m in \u001b[0;36m_ssl_wrap_socket_and_match_hostname\u001b[0;34m(sock, cert_reqs, ssl_version, ssl_minimum_version, ssl_maximum_version, cert_file, key_file, key_password, ca_certs, ca_cert_dir, ca_cert_data, assert_hostname, assert_fingerprint, server_hostname, ssl_context, tls_in_tls)\u001b[0m\n\u001b[1;32m    781\u001b[0m             \u001b[0mserver_hostname\u001b[0m \u001b[0;34m=\u001b[0m \u001b[0mnormalized\u001b[0m\u001b[0;34m\u001b[0m\u001b[0;34m\u001b[0m\u001b[0m\n\u001b[1;32m    782\u001b[0m \u001b[0;34m\u001b[0m\u001b[0m\n\u001b[0;32m--> 783\u001b[0;31m     ssl_sock = ssl_wrap_socket(\n\u001b[0m\u001b[1;32m    784\u001b[0m         \u001b[0msock\u001b[0m\u001b[0;34m=\u001b[0m\u001b[0msock\u001b[0m\u001b[0;34m,\u001b[0m\u001b[0;34m\u001b[0m\u001b[0;34m\u001b[0m\u001b[0m\n\u001b[1;32m    785\u001b[0m         \u001b[0mkeyfile\u001b[0m\u001b[0;34m=\u001b[0m\u001b[0mkey_file\u001b[0m\u001b[0;34m,\u001b[0m\u001b[0;34m\u001b[0m\u001b[0;34m\u001b[0m\u001b[0m\n",
            "\u001b[0;32m/usr/local/lib/python3.10/dist-packages/urllib3/util/ssl_.py\u001b[0m in \u001b[0;36mssl_wrap_socket\u001b[0;34m(sock, keyfile, certfile, cert_reqs, ca_certs, server_hostname, ssl_version, ciphers, ssl_context, ca_cert_dir, key_password, ca_cert_data, tls_in_tls)\u001b[0m\n\u001b[1;32m    444\u001b[0m     \u001b[0;32mif\u001b[0m \u001b[0mca_certs\u001b[0m \u001b[0;32mor\u001b[0m \u001b[0mca_cert_dir\u001b[0m \u001b[0;32mor\u001b[0m \u001b[0mca_cert_data\u001b[0m\u001b[0;34m:\u001b[0m\u001b[0;34m\u001b[0m\u001b[0;34m\u001b[0m\u001b[0m\n\u001b[1;32m    445\u001b[0m         \u001b[0;32mtry\u001b[0m\u001b[0;34m:\u001b[0m\u001b[0;34m\u001b[0m\u001b[0;34m\u001b[0m\u001b[0m\n\u001b[0;32m--> 446\u001b[0;31m             \u001b[0mcontext\u001b[0m\u001b[0;34m.\u001b[0m\u001b[0mload_verify_locations\u001b[0m\u001b[0;34m(\u001b[0m\u001b[0mca_certs\u001b[0m\u001b[0;34m,\u001b[0m \u001b[0mca_cert_dir\u001b[0m\u001b[0;34m,\u001b[0m \u001b[0mca_cert_data\u001b[0m\u001b[0;34m)\u001b[0m\u001b[0;34m\u001b[0m\u001b[0;34m\u001b[0m\u001b[0m\n\u001b[0m\u001b[1;32m    447\u001b[0m         \u001b[0;32mexcept\u001b[0m \u001b[0mOSError\u001b[0m \u001b[0;32mas\u001b[0m \u001b[0me\u001b[0m\u001b[0;34m:\u001b[0m\u001b[0;34m\u001b[0m\u001b[0;34m\u001b[0m\u001b[0m\n\u001b[1;32m    448\u001b[0m             \u001b[0;32mraise\u001b[0m \u001b[0mSSLError\u001b[0m\u001b[0;34m(\u001b[0m\u001b[0me\u001b[0m\u001b[0;34m)\u001b[0m \u001b[0;32mfrom\u001b[0m \u001b[0me\u001b[0m\u001b[0;34m\u001b[0m\u001b[0;34m\u001b[0m\u001b[0m\n",
            "\u001b[0;31mKeyboardInterrupt\u001b[0m: "
          ]
        }
      ]
    },
    {
      "cell_type": "code",
      "source": [
        "import osmnx as ox\n",
        "import networkx as nx\n",
        "\n",
        "def get_shortest_path_by_road(hospital1_coords, hospital2_coords):\n",
        "    # For a large distance between cities, it might be more effective to specify a larger network\n",
        "    # This example directly uses coordinates without specifying an encompassing area\n",
        "    G = ox.graph_from_point(((hospital1_coords[0] + hospital2_coords[0]) / 2,\n",
        "                             (hospital1_coords[1] + hospital2_coords[1]) / 2),\n",
        "                            dist=500000, dist_type=\"bbox\", network_type=\"drive\")\n",
        "\n",
        "    hospital1_node = ox.distance.nearest_nodes(G, X=hospital1_coords[1], Y=hospital1_coords[0])\n",
        "    hospital2_node = ox.distance.nearest_nodes(G, X=hospital2_coords[1], Y=hospital2_coords[0])\n",
        "\n",
        "    shortest_path_nodes = nx.shortest_path(G, hospital1_node, hospital2_node, weight='length')\n",
        "    distance_meters = sum(ox.utils_graph.get_route_edge_attributes(G, shortest_path_nodes, 'length'))\n",
        "\n",
        "    # Convert distance from meters to miles\n",
        "    distance_miles = distance_meters * 0.000621371\n",
        "\n",
        "    route_map = ox.plot_route_folium(G, shortest_path_nodes)\n",
        "\n",
        "    return distance_miles, route_map\n",
        "\n",
        "# Define the coordinates of the hospitals\n",
        "bethesda_hospital_coords = (26.525349, -80.060387)  # Replace with actual coordinates\n",
        "orlando_regional_medical_center_coords = (28.526587, -81.379236)  # Replace with actual coordinates\n",
        "\n",
        "# Calculate the distance\n",
        "distance_miles, route_map = get_shortest_path_by_road(bethesda_hospital_coords, orlando_regional_medical_center_coords)\n",
        "print(f\"The shortest driving distance between Bethesda Hospital East and Orlando Regional Medical Center is {distance_miles} miles.\")\n"
      ],
      "metadata": {
        "colab": {
          "base_uri": "https://localhost:8080/",
          "height": 378
        },
        "id": "NRdR6eCVzUtV",
        "outputId": "38c5b617-158d-4e67-ece0-26a8a7fcd6ff"
      },
      "execution_count": null,
      "outputs": [
        {
          "output_type": "error",
          "ename": "ModuleNotFoundError",
          "evalue": "No module named 'osmnx'",
          "traceback": [
            "\u001b[0;31m---------------------------------------------------------------------------\u001b[0m",
            "\u001b[0;31mModuleNotFoundError\u001b[0m                       Traceback (most recent call last)",
            "\u001b[0;32m<ipython-input-1-457c11d11fe8>\u001b[0m in \u001b[0;36m<cell line: 1>\u001b[0;34m()\u001b[0m\n\u001b[0;32m----> 1\u001b[0;31m \u001b[0;32mimport\u001b[0m \u001b[0mosmnx\u001b[0m \u001b[0;32mas\u001b[0m \u001b[0mox\u001b[0m\u001b[0;34m\u001b[0m\u001b[0;34m\u001b[0m\u001b[0m\n\u001b[0m\u001b[1;32m      2\u001b[0m \u001b[0;32mimport\u001b[0m \u001b[0mnetworkx\u001b[0m \u001b[0;32mas\u001b[0m \u001b[0mnx\u001b[0m\u001b[0;34m\u001b[0m\u001b[0;34m\u001b[0m\u001b[0m\n\u001b[1;32m      3\u001b[0m \u001b[0;34m\u001b[0m\u001b[0m\n\u001b[1;32m      4\u001b[0m \u001b[0;32mdef\u001b[0m \u001b[0mget_shortest_path_by_road\u001b[0m\u001b[0;34m(\u001b[0m\u001b[0mhospital1_coords\u001b[0m\u001b[0;34m,\u001b[0m \u001b[0mhospital2_coords\u001b[0m\u001b[0;34m)\u001b[0m\u001b[0;34m:\u001b[0m\u001b[0;34m\u001b[0m\u001b[0;34m\u001b[0m\u001b[0m\n\u001b[1;32m      5\u001b[0m     \u001b[0;31m# For a large distance between cities, it might be more effective to specify a larger network\u001b[0m\u001b[0;34m\u001b[0m\u001b[0;34m\u001b[0m\u001b[0m\n",
            "\u001b[0;31mModuleNotFoundError\u001b[0m: No module named 'osmnx'",
            "",
            "\u001b[0;31m---------------------------------------------------------------------------\u001b[0;32m\nNOTE: If your import is failing due to a missing package, you can\nmanually install dependencies using either !pip or !apt.\n\nTo view examples of installing some common dependencies, click the\n\"Open Examples\" button below.\n\u001b[0;31m---------------------------------------------------------------------------\u001b[0m\n"
          ],
          "errorDetails": {
            "actions": [
              {
                "action": "open_url",
                "actionText": "Open Examples",
                "url": "/notebooks/snippets/importing_libraries.ipynb"
              }
            ]
          }
        }
      ]
    },
    {
      "cell_type": "code",
      "source": [
        "from queue import PriorityQueue\n",
        "\n",
        "def reconstruct_path(cameFrom, current):\n",
        "    total_path = [current]\n",
        "    while current in cameFrom:\n",
        "        current = cameFrom[current]\n",
        "        total_path.insert(0, current)  # Prepend to the path\n",
        "    return total_path\n",
        "\n",
        "def A_Star(start, goal, h, graph, d):\n",
        "    openSet = PriorityQueue()\n",
        "    openSet.put((0, start))  # Priority queue with (fScore, node)\n",
        "\n",
        "    cameFrom = {}\n",
        "\n",
        "    gScore = {node: float('inf') for node in graph}\n",
        "    gScore[start] = 0\n",
        "\n",
        "    fScore = {node: float('inf') for node in graph}\n",
        "    fScore[start] = h(start)\n",
        "\n",
        "    openSetHash = {start}  # To keep track of items in PriorityQueue\n",
        "\n",
        "    while not openSet.empty():\n",
        "        current = openSet.get()[1]  # Get the node with the lowest fScore\n",
        "        openSetHash.remove(current)\n",
        "\n",
        "        if current == goal:\n",
        "            return reconstruct_path(cameFrom, current)\n",
        "\n",
        "        for neighbor in graph[current]:\n",
        "            tentative_gScore = gScore[current] + d(current, neighbor)\n",
        "            if tentative_gScore < gScore[neighbor]:\n",
        "                cameFrom[neighbor] = current\n",
        "                gScore[neighbor] = tentative_gScore\n",
        "                fScore[neighbor] = tentative_gScore + h(neighbor)\n",
        "                if neighbor not in openSetHash:\n",
        "                    openSet.put((fScore[neighbor], neighbor))\n",
        "                    openSetHash.add(neighbor)\n",
        "\n",
        "    return None  # If the goal was not reached\n",
        "\n",
        "# Example usage\n",
        "if __name__ == \"__main__\":\n",
        "    # Define a simple graph as a dictionary\n",
        "    # For example purposes, d() and h() functions are very basic and might need to be adapted\n",
        "    graph = {\n",
        "        'start': {'A': 1, 'B': 4},\n",
        "        'A': {'goal': 1},\n",
        "        'B': {'goal': 2},\n",
        "        'goal': {}\n",
        "    }\n",
        "\n",
        "    def h(node):\n",
        "        # Simple heuristic function\n",
        "        return {'start': 3, 'A': 1, 'B': 2, 'goal': 0}.get(node, 0)\n",
        "\n",
        "    def d(node1, node2):\n",
        "        # Distance between two nodes\n",
        "        return graph[node1].get(node2, float('inf'))\n",
        "\n",
        "    start = 'start'\n",
        "    goal = 'goal'\n",
        "\n",
        "    path = A_Star(start, goal, h, graph, d)\n",
        "    print(\"Path:\", path)\n"
      ],
      "metadata": {
        "colab": {
          "base_uri": "https://localhost:8080/"
        },
        "id": "FIQOOzErKR-N",
        "outputId": "b6474bc1-68f8-478d-fa34-5f3d7af468bd"
      },
      "execution_count": null,
      "outputs": [
        {
          "output_type": "stream",
          "name": "stdout",
          "text": [
            "Path: ['start', 'A', 'goal']\n"
          ]
        }
      ]
    },
    {
      "cell_type": "code",
      "source": [
        "import math\n",
        "\n",
        "# Placeholder graph definition (not applicable for direct coordinate usage)\n",
        "graph = {'start': {'goal': 0}}  # Not used in this heuristic distance calculation\n",
        "\n",
        "# Coordinates for the hospitals\n",
        "hospital1_coords = (26.5046724, -80.07016956595065)  # Bethesda Hospital East\n",
        "hospital2_coords = (28.52550115, -81.37826689467641)  # Orlando Regional Medical Center\n",
        "\n",
        "# Heuristic function calculating straight-line distance between two points on Earth\n",
        "def haversine(coord1, coord2):\n",
        "    # Convert latitude and longitude from degrees to radians\n",
        "    lat1, lon1 = map(math.radians, coord1)\n",
        "    lat2, lon2 = map(math.radians, coord2)\n",
        "\n",
        "    # Haversine formula\n",
        "    dlat = lat2 - lat1\n",
        "    dlon = lon2 - lon1\n",
        "    a = math.sin(dlat/2)**2 + math.cos(lat1) * math.cos(lat2) * math.sin(dlon/2)**2\n",
        "    c = 2 * math.asin(math.sqrt(a))\n",
        "\n",
        "    # Radius of Earth in kilometers. Use 3956 for miles\n",
        "    r = 6371\n",
        "\n",
        "    return c * r\n",
        "\n",
        "# Adjusting the heuristic function to use haversine distance\n",
        "def h(node):\n",
        "    # Assuming 'start' corresponds to hospital1 and 'goal' to hospital2\n",
        "    if node == 'start':\n",
        "        return haversine(hospital1_coords, hospital2_coords)\n",
        "    elif node == 'goal':\n",
        "        return 0\n",
        "    return float('inf')\n",
        "\n",
        "# Distance function (not applicable for direct coordinate usage in this context)\n",
        "def d(node1, node2):\n",
        "    # This function is not used in this context\n",
        "    return float('inf')\n",
        "\n",
        "# Dummy start and goal for the sake of example\n",
        "start = 'start'\n",
        "goal = 'goal'\n",
        "\n",
        "# Since we don't have a graph to navigate, we'll just print the heuristic distance\n",
        "distance = h(start)\n",
        "print(f\"Estimated straight-line distance: {distance} km\")\n"
      ],
      "metadata": {
        "colab": {
          "base_uri": "https://localhost:8080/"
        },
        "id": "NvG3nfZFMBTV",
        "outputId": "33d6ad03-8e46-437e-9ca8-1e5aad1455ff"
      },
      "execution_count": null,
      "outputs": [
        {
          "output_type": "stream",
          "name": "stdout",
          "text": [
            "Estimated straight-line distance: 259.0961589039308 km\n"
          ]
        }
      ]
    },
    {
      "cell_type": "code",
      "source": [
        "import osmnx as ox\n",
        "import networkx as nx\n",
        "from geopy.distance import great_circle\n",
        "\n",
        "def h(node1, node2, node_data):\n",
        "    # Heuristic function based on straight-line distance\n",
        "    coord1 = node_data[node1]['y'], node_data[node1]['x']\n",
        "    coord2 = node_data[node2]['y'], node_data[node2]['x']\n",
        "    return great_circle(coord1, coord2).miles\n",
        "\n",
        "def a_star_search(graph, start_point, end_point, node_data):\n",
        "    # Wrapper for nx.astar_path to use the great_circle heuristic\n",
        "    path = nx.astar_path(graph, start_point, end_point,\n",
        "                         heuristic=lambda a, b: h(a, b, node_data),\n",
        "                         weight='length')\n",
        "    return path\n",
        "\n",
        "# Fetch the road network\n",
        "G = ox.graph_from_place('Orlando, Florida, USA', network_type='drive')\n",
        "node_data = {node: data for node, data in G.nodes(data=True)}\n",
        "\n",
        "# Geocode the hospitals\n",
        "hospital1_location = ox.geocoder.geocode('Bethesda Hospital East, Boynton Beach, Florida')\n",
        "hospital2_location = ox.geocoder.geocode('Orlando Regional Medical Center, Orlando, Florida')\n",
        "\n",
        "# Find the nearest nodes\n",
        "hospital1_node = ox.distance.nearest_nodes(G, X=hospital1_location[1], Y=hospital1_location[0])\n",
        "hospital2_node = ox.distance.nearest_nodes(G, X=hospital2_location[1], Y=hospital2_location[0])\n",
        "\n",
        "# Find the shortest path\n",
        "path = a_star_search(G, hospital1_node, hospital2_node, node_data)\n",
        "\n",
        "# Calculate the total path distance\n",
        "distance = sum(ox.utils_graph.get_route_edge_attributes(G, path, 'length')) / 1609.34  # Convert meters to miles\n",
        "\n",
        "print(f\"The shortest driving distance between the hospitals is approximately {distance:.2f} miles.\")\n"
      ],
      "metadata": {
        "colab": {
          "base_uri": "https://localhost:8080/",
          "height": 385
        },
        "id": "RlTX2RpBNqHN",
        "outputId": "7062e847-10c5-4b59-9d52-e5dff0151431"
      },
      "execution_count": null,
      "outputs": [
        {
          "output_type": "error",
          "ename": "NetworkXNoPath",
          "evalue": "Node 99626155 not reachable from 4619022321",
          "traceback": [
            "\u001b[0;31m---------------------------------------------------------------------------\u001b[0m",
            "\u001b[0;31mNetworkXNoPath\u001b[0m                            Traceback (most recent call last)",
            "\u001b[0;32m<ipython-input-26-031827fb3caf>\u001b[0m in \u001b[0;36m<cell line: 31>\u001b[0;34m()\u001b[0m\n\u001b[1;32m     29\u001b[0m \u001b[0;34m\u001b[0m\u001b[0m\n\u001b[1;32m     30\u001b[0m \u001b[0;31m# Find the shortest path\u001b[0m\u001b[0;34m\u001b[0m\u001b[0;34m\u001b[0m\u001b[0m\n\u001b[0;32m---> 31\u001b[0;31m \u001b[0mpath\u001b[0m \u001b[0;34m=\u001b[0m \u001b[0ma_star_search\u001b[0m\u001b[0;34m(\u001b[0m\u001b[0mG\u001b[0m\u001b[0;34m,\u001b[0m \u001b[0mhospital1_node\u001b[0m\u001b[0;34m,\u001b[0m \u001b[0mhospital2_node\u001b[0m\u001b[0;34m,\u001b[0m \u001b[0mnode_data\u001b[0m\u001b[0;34m)\u001b[0m\u001b[0;34m\u001b[0m\u001b[0;34m\u001b[0m\u001b[0m\n\u001b[0m\u001b[1;32m     32\u001b[0m \u001b[0;34m\u001b[0m\u001b[0m\n\u001b[1;32m     33\u001b[0m \u001b[0;31m# Calculate the total path distance\u001b[0m\u001b[0;34m\u001b[0m\u001b[0;34m\u001b[0m\u001b[0m\n",
            "\u001b[0;32m<ipython-input-26-031827fb3caf>\u001b[0m in \u001b[0;36ma_star_search\u001b[0;34m(graph, start_point, end_point, node_data)\u001b[0m\n\u001b[1;32m     11\u001b[0m \u001b[0;32mdef\u001b[0m \u001b[0ma_star_search\u001b[0m\u001b[0;34m(\u001b[0m\u001b[0mgraph\u001b[0m\u001b[0;34m,\u001b[0m \u001b[0mstart_point\u001b[0m\u001b[0;34m,\u001b[0m \u001b[0mend_point\u001b[0m\u001b[0;34m,\u001b[0m \u001b[0mnode_data\u001b[0m\u001b[0;34m)\u001b[0m\u001b[0;34m:\u001b[0m\u001b[0;34m\u001b[0m\u001b[0;34m\u001b[0m\u001b[0m\n\u001b[1;32m     12\u001b[0m     \u001b[0;31m# Wrapper for nx.astar_path to use the great_circle heuristic\u001b[0m\u001b[0;34m\u001b[0m\u001b[0;34m\u001b[0m\u001b[0m\n\u001b[0;32m---> 13\u001b[0;31m     path = nx.astar_path(graph, start_point, end_point, \n\u001b[0m\u001b[1;32m     14\u001b[0m                          \u001b[0mheuristic\u001b[0m\u001b[0;34m=\u001b[0m\u001b[0;32mlambda\u001b[0m \u001b[0ma\u001b[0m\u001b[0;34m,\u001b[0m \u001b[0mb\u001b[0m\u001b[0;34m:\u001b[0m \u001b[0mh\u001b[0m\u001b[0;34m(\u001b[0m\u001b[0ma\u001b[0m\u001b[0;34m,\u001b[0m \u001b[0mb\u001b[0m\u001b[0;34m,\u001b[0m \u001b[0mnode_data\u001b[0m\u001b[0;34m)\u001b[0m\u001b[0;34m,\u001b[0m\u001b[0;34m\u001b[0m\u001b[0;34m\u001b[0m\u001b[0m\n\u001b[1;32m     15\u001b[0m                          weight='length')\n",
            "\u001b[0;32m/usr/local/lib/python3.10/dist-packages/networkx/utils/backends.py\u001b[0m in \u001b[0;36m__call__\u001b[0;34m(self, backend, *args, **kwargs)\u001b[0m\n\u001b[1;32m    410\u001b[0m         \u001b[0;32mif\u001b[0m \u001b[0;32mnot\u001b[0m \u001b[0mbackends\u001b[0m\u001b[0;34m:\u001b[0m\u001b[0;34m\u001b[0m\u001b[0;34m\u001b[0m\u001b[0m\n\u001b[1;32m    411\u001b[0m             \u001b[0;31m# Fast path if no backends are installed\u001b[0m\u001b[0;34m\u001b[0m\u001b[0;34m\u001b[0m\u001b[0m\n\u001b[0;32m--> 412\u001b[0;31m             \u001b[0;32mreturn\u001b[0m \u001b[0mself\u001b[0m\u001b[0;34m.\u001b[0m\u001b[0morig_func\u001b[0m\u001b[0;34m(\u001b[0m\u001b[0;34m*\u001b[0m\u001b[0margs\u001b[0m\u001b[0;34m,\u001b[0m \u001b[0;34m**\u001b[0m\u001b[0mkwargs\u001b[0m\u001b[0;34m)\u001b[0m\u001b[0;34m\u001b[0m\u001b[0;34m\u001b[0m\u001b[0m\n\u001b[0m\u001b[1;32m    413\u001b[0m \u001b[0;34m\u001b[0m\u001b[0m\n\u001b[1;32m    414\u001b[0m         \u001b[0;31m# Use `backend_name` in this function instead of `backend`\u001b[0m\u001b[0;34m\u001b[0m\u001b[0;34m\u001b[0m\u001b[0m\n",
            "\u001b[0;32m/usr/local/lib/python3.10/dist-packages/networkx/algorithms/shortest_paths/astar.py\u001b[0m in \u001b[0;36mastar_path\u001b[0;34m(G, source, target, heuristic, weight)\u001b[0m\n\u001b[1;32m    156\u001b[0m             \u001b[0mpush\u001b[0m\u001b[0;34m(\u001b[0m\u001b[0mqueue\u001b[0m\u001b[0;34m,\u001b[0m \u001b[0;34m(\u001b[0m\u001b[0mncost\u001b[0m \u001b[0;34m+\u001b[0m \u001b[0mh\u001b[0m\u001b[0;34m,\u001b[0m \u001b[0mnext\u001b[0m\u001b[0;34m(\u001b[0m\u001b[0mc\u001b[0m\u001b[0;34m)\u001b[0m\u001b[0;34m,\u001b[0m \u001b[0mneighbor\u001b[0m\u001b[0;34m,\u001b[0m \u001b[0mncost\u001b[0m\u001b[0;34m,\u001b[0m \u001b[0mcurnode\u001b[0m\u001b[0;34m)\u001b[0m\u001b[0;34m)\u001b[0m\u001b[0;34m\u001b[0m\u001b[0;34m\u001b[0m\u001b[0m\n\u001b[1;32m    157\u001b[0m \u001b[0;34m\u001b[0m\u001b[0m\n\u001b[0;32m--> 158\u001b[0;31m     \u001b[0;32mraise\u001b[0m \u001b[0mnx\u001b[0m\u001b[0;34m.\u001b[0m\u001b[0mNetworkXNoPath\u001b[0m\u001b[0;34m(\u001b[0m\u001b[0;34mf\"Node {target} not reachable from {source}\"\u001b[0m\u001b[0;34m)\u001b[0m\u001b[0;34m\u001b[0m\u001b[0;34m\u001b[0m\u001b[0m\n\u001b[0m\u001b[1;32m    159\u001b[0m \u001b[0;34m\u001b[0m\u001b[0m\n\u001b[1;32m    160\u001b[0m \u001b[0;34m\u001b[0m\u001b[0m\n",
            "\u001b[0;31mNetworkXNoPath\u001b[0m: Node 99626155 not reachable from 4619022321"
          ]
        }
      ]
    },
    {
      "cell_type": "code",
      "source": [
        "import matplotlib.pyplot as plt\n",
        "class QuadTree:\n",
        "    def __init__(self, boundary):\n",
        "        self.boundary = boundary  # Boundary is a dictionary with x, y, width, height\n",
        "        self.points = []  # List to hold hospitals within this quad\n",
        "        self.nw = self.ne = self.sw = self.se = None  # Child quads\n",
        "\n",
        "    def insert(self, point):\n",
        "        # Insert a point if it's within the boundary\n",
        "        if (point['x'] >= self.boundary['x'] and point['x'] <= self.boundary['x'] + self.boundary['width'] and\n",
        "            point['y'] >= self.boundary['y'] and point['y'] <= self.boundary['y'] + self.boundary['height']):\n",
        "            self.points.append(point)\n",
        "            return True\n",
        "        return False\n",
        "\n",
        "    def subdivide(self):\n",
        "        # Subdivide the quad into four child quads\n",
        "        half_width = self.boundary['width'] / 2\n",
        "        half_height = self.boundary['height'] / 2\n",
        "        cx = self.boundary['x']\n",
        "        cy = self.boundary['y']\n",
        "\n",
        "        self.nw = QuadTree({'x': cx, 'y': cy, 'width': half_width, 'height': half_height})\n",
        "        self.ne = QuadTree({'x': cx + half_width, 'y': cy, 'width': half_width, 'height': half_height})\n",
        "        self.sw = QuadTree({'x': cx, 'y': cy + half_height, 'width': half_width, 'height': half_height})\n",
        "        self.se = QuadTree({'x': cx + half_width, 'y': cy + half_height, 'width': half_width, 'height': half_height})\n",
        "\n",
        "# Example use\n",
        "boundary = {'x': -80.1, 'y': 26.35, 'width': 0.1, 'height': 0.1}  # Define boundary covering Boca Raton area\n",
        "boca_quad_tree = QuadTree(boundary)\n",
        "\n",
        "# Example hospital data\n",
        "hospitals = [\n",
        "    {'x': -80.087, 'y': 26.358, 'name': \"Boca Raton Regional Hospital\"},\n",
        "    {'x': -80.092, 'y': 26.351, 'name': \"West Boca Medical Center\"}\n",
        "    # Add more hospitals as needed\n",
        "]\n",
        "\n",
        "# Insert hospitals into the QuadTree\n",
        "for hospital in hospitals:\n",
        "    boca_quad_tree.insert(hospital)\n",
        "plt.show\n",
        "# At this point, 'boca_quad_tree' contains the hospitals within its boundary\n"
      ],
      "metadata": {
        "colab": {
          "base_uri": "https://localhost:8080/"
        },
        "id": "FVe4NRuAIJtz",
        "outputId": "e4fb52b0-1717-4d5f-b05d-249bd1194c56"
      },
      "execution_count": null,
      "outputs": [
        {
          "output_type": "execute_result",
          "data": {
            "text/plain": [
              "<function matplotlib.pyplot.show(close=None, block=None)>"
            ]
          },
          "metadata": {},
          "execution_count": 10
        }
      ]
    },
    {
      "cell_type": "code",
      "source": [
        "import matplotlib.pyplot as plt\n",
        "import matplotlib.patches as patches\n",
        "\n",
        "class QuadTree:\n",
        "    def __init__(self, boundary, depth=0):\n",
        "        self.boundary = boundary\n",
        "        self.points = []\n",
        "        self.nw = self.ne = self.sw = self.se = None\n",
        "        self.depth = depth  # Added to keep track of the depth for coloring\n",
        "\n",
        "    def insert(self, point):\n",
        "        if (point['x'] >= self.boundary['x'] and point['x'] <= self.boundary['x'] + self.boundary['width'] and\n",
        "            point['y'] >= self.boundary['y'] and point['y'] <= self.boundary['y'] + self.boundary['height']):\n",
        "            self.points.append(point)\n",
        "            return True\n",
        "        return False\n",
        "\n",
        "    def subdivide(self):\n",
        "        half_width = self.boundary['width'] / 2\n",
        "        half_height = self.boundary['height'] / 2\n",
        "        cx = self.boundary['x']\n",
        "        cy = self.boundary['y']\n",
        "\n",
        "        self.nw = QuadTree({'x': cx, 'y': cy, 'width': half_width, 'height': half_height}, self.depth + 1)\n",
        "        self.ne = QuadTree({'x': cx + half_width, 'y': cy, 'width': half_width, 'height': half_height}, self.depth + 1)\n",
        "        self.sw = QuadTree({'x': cx, 'y': cy + half_height, 'width': half_width, 'height': half_height}, self.depth + 1)\n",
        "        self.se = QuadTree({'x': cx + half_width, 'y': cy + half_height, 'width': half_width, 'height': half_height}, self.depth + 1)\n",
        "\n",
        "    def plot(self, ax):\n",
        "        # Draw the boundary of the quad\n",
        "        rect = patches.Rectangle((self.boundary['x'], self.boundary['y']), self.boundary['width'], self.boundary['height'],\n",
        "                                 linewidth=1, edgecolor='r', facecolor='none')\n",
        "        ax.add_patch(rect)\n",
        "\n",
        "        # Plot the points\n",
        "        for point in self.points:\n",
        "            ax.plot(point['x'], point['y'], 'bo')\n",
        "\n",
        "        # Recursively plot child quads\n",
        "        if self.nw: self.nw.plot(ax)\n",
        "        if self.ne: self.ne.plot(ax)\n",
        "        if self.sw: self.sw.plot(ax)\n",
        "        if self.se: self.se.plot(ax)\n",
        "\n",
        "# Initialize the QuadTree with a boundary\n",
        "boundary = {'x': -80.1, 'y': 26.35, 'width': 0.1, 'height': 0.1}\n",
        "boca_quad_tree = QuadTree(boundary)\n",
        "\n",
        "# Insert hospitals (example data)\n",
        "hospitals = [\n",
        "    {'x': -80.087, 'y': 26.358, 'name': \"Boca Raton Regional Hospital\"},\n",
        "    {'x': -80.092, 'y': 26.351, 'name': \"West Boca Medical Center\"},\n",
        "    {'x': -80.142 ,'y':26.119, 'name': \"Florida Atlantic University\"}\n",
        " ]\n",
        "for hospital in hospitals:\n",
        "    boca_quad_tree.insert(hospital)\n",
        "\n",
        "# Subdivide the QuadTree for demonstration (would normally be conditional based on point density)\n",
        "boca_quad_tree.subdivide()\n",
        "\n",
        "# Plotting\n",
        "fig, ax = plt.subplots()\n",
        "boca_quad_tree.plot(ax)\n",
        "ax.set_xlim(-80.105, -80.085)\n",
        "ax.set_ylim(26.345, 26.365)\n",
        "\n",
        "plt.show()\n"
      ],
      "metadata": {
        "id": "8bJxABoWJJv5",
        "outputId": "978c6838-bc62-4afb-a295-251b1f80a269",
        "colab": {
          "base_uri": "https://localhost:8080/",
          "height": 435
        }
      },
      "execution_count": 23,
      "outputs": [
        {
          "output_type": "display_data",
          "data": {
            "text/plain": [
              "<Figure size 640x480 with 1 Axes>"
            ],
            "image/png": "[encoded data removed]"
          },
          "metadata": {}
        }
      ]
    },
    {
      "cell_type": "code",
      "source": [
        "# Assuming the QuadTree class definition from the previous example remains unchanged\n",
        "\n",
        "# Initialize the QuadTree with a broader boundary if needed\n",
        "boundary = {'x': -80.105, 'y': 26.345, 'width': 0.2, 'height': 0.2}\n",
        "boca_quad_tree = QuadTree(boundary)\n",
        "\n",
        "# Insert more hospitals (example data)\n",
        "hospitals = [\n",
        "    {'x': -80.087, 'y': 26.358, 'name': \"Boca Raton Regional Hospital\"},\n",
        "    {'x': -80.092, 'y': 26.351, 'name': \"West Boca Medical Center\"},\n",
        "    # Adding more example hospital locations within the specified boundary\n",
        "    {'x': -80.094, 'y': 26.348, 'name': \"Boca Raton Community Hospital\"},\n",
        "    {'x': -80.100, 'y': 26.360, 'name': \"Delray Medical Center\"},\n",
        "    {'x': -80.098, 'y': 26.354, 'name': \"FAU Health Services\"},\n",
        "    {'x': -80.090, 'y': 26.346, 'name': \"Lynn Cancer Institute\"}\n",
        "]\n",
        "\n",
        "# Insert all hospitals into the QuadTree\n",
        "for hospital in hospitals:\n",
        "    boca_quad_tree.insert(hospital)\n",
        "\n",
        "# Optionally, subdivide the QuadTree based on the density of points.\n",
        "# For demonstration, we're manually subdividing the root and its children once.\n",
        "# In a full implementation, subdivision would be automatic based on a threshold of points.\n",
        "boca_quad_tree.subdivide()  # Subdivide the root quad\n",
        "for child in [boca_quad_tree.nw, boca_quad_tree.ne, boca_quad_tree.sw, boca_quad_tree.se]:\n",
        "    child.subdivide()  # Further subdivide each child\n",
        "\n",
        "# Plotting the QuadTree with all points\n",
        "fig, ax = plt.subplots()\n",
        "boca_quad_tree.plot(ax)\n",
        "ax.set_xlim(boundary['x'], boundary['x'] + boundary['width'])\n",
        "ax.set_ylim(boundary['y'], boundary['y'] + boundary['height'])\n",
        "plt.show()\n"
      ],
      "metadata": {
        "colab": {
          "base_uri": "https://localhost:8080/",
          "height": 430
        },
        "id": "O4UA6d85RS_l",
        "outputId": "a171150a-0c7d-4e70-b060-6d8e577d3c60"
      },
      "execution_count": 24,
      "outputs": [
        {
          "output_type": "display_data",
          "data": {
            "text/plain": [
              "<Figure size 640x480 with 1 Axes>"
            ],
            "image/png": "[encoded data removed]"
          },
          "metadata": {}
        }
      ]
    },
    {
      "cell_type": "markdown",
      "source": [
        "QuadTree test\n"
      ],
      "metadata": {
        "id": "zqiY-JtxJn0z"
      }
    },
    {
      "cell_type": "code",
      "source": [
        "import matplotlib.pyplot as plt\n",
        "import matplotlib.patches as patches\n",
        "\n",
        "class QuadTree:\n",
        "    def __init__(self, boundary, depth=0):\n",
        "        self.boundary = boundary\n",
        "        self.points = []\n",
        "        self.nw = self.ne = self.sw = self.se = None\n",
        "        self.depth = depth  # Added to keep track of the depth for coloring\n",
        "\n",
        "    def insert(self, point):\n",
        "        if (point['x'] >= self.boundary['x'] and point['x'] <= self.boundary['x'] + self.boundary['width'] and\n",
        "            point['y'] >= self.boundary['y'] and point['y'] <= self.boundary['y'] + self.boundary['height']):\n",
        "            self.points.append(point)\n",
        "            return True\n",
        "        return False\n",
        "\n",
        "    def subdivide(self):\n",
        "        half_width = self.boundary['width'] / 2\n",
        "        half_height = self.boundary['height'] / 2\n",
        "        cx = self.boundary['x']\n",
        "        cy = self.boundary['y']\n",
        "\n",
        "        self.nw = QuadTree({'x': cx, 'y': cy, 'width': half_width, 'height': half_height}, self.depth + 1)\n",
        "        self.ne = QuadTree({'x': cx + half_width, 'y': cy, 'width': half_width, 'height': half_height}, self.depth + 1)\n",
        "        self.sw = QuadTree({'x': cx, 'y': cy + half_height, 'width': half_width, 'height': half_height}, self.depth + 1)\n",
        "        self.se = QuadTree({'x': cx + half_width, 'y': cy + half_height, 'width': half_width, 'height': half_height}, self.depth + 1)\n",
        "\n",
        "    def plot(self, ax):\n",
        "        # Draw the boundary of the quad\n",
        "        rect = patches.Rectangle((self.boundary['x'], self.boundary['y']), self.boundary['width'], self.boundary['height'],\n",
        "                                 linewidth=1, edgecolor='r', facecolor='none')\n",
        "        ax.add_patch(rect)\n",
        "\n",
        "        # Plot the points\n",
        "        for point in self.points:\n",
        "            ax.plot(point['x'], point['y'], 'bo')\n",
        "\n",
        "        # Recursively plot child quads\n",
        "        if self.nw: self.nw.plot(ax)\n",
        "        if self.ne: self.ne.plot(ax)\n",
        "        if self.sw: self.sw.plot(ax)\n",
        "        if self.se: self.se.plot(ax)\n",
        "\n",
        "# Initialize the QuadTree with a boundary\n",
        "boundary = {'x': -80.1, 'y': 26.35, 'width': 0.1, 'height': 0.1}\n",
        "boca_quad_tree = QuadTree(boundary)\n",
        "\n",
        "# Insert hospitals (example data)\n",
        "hospitals = [\n",
        "    {'x': -80.087, 'y': 26.358, 'name': \"Boca Raton Regional Hospital\"},\n",
        "    {'x': -80.092, 'y': 26.351, 'name': \"West Boca Medical Center\"}\n",
        "]\n",
        "\n",
        "for hospital in hospitals:\n",
        "    boca_quad_tree.insert(hospital)\n",
        "\n",
        "# Subdivide the QuadTree for demonstration (would normally be conditional based on point density)\n",
        "boca_quad_tree.subdivide()\n",
        "\n",
        "# Plotting\n",
        "fig, ax = plt.subplots()\n",
        "boca_quad_tree.plot(ax)\n",
        "ax.set_xlim(-80.105, -80.085)\n",
        "ax.set_ylim(26.345, 26.365)\n",
        "plt.show()\n"
      ],
      "metadata": {
        "id": "lrgZNSJAJsUU"
      },
      "execution_count": null,
      "outputs": []
    },
    {
      "cell_type": "code",
      "source": [
        "#marco sam lab code (using A star/ demonstrating it)\n",
        "import heapq\n",
        "from math import radians, sin, cos, sqrt, atan2\n",
        "\n",
        "def haversine_distance(coord1, coord2):\n",
        "    # Radius of the Earth\n",
        "    R = 6371.0\n",
        "\n",
        "    lat1, lon1 = radians(coord1[0]), radians(coord1[1])\n",
        "    lat2, lon2 = radians(coord2[0]), radians(coord2[1])\n",
        "\n",
        "    dlat = lat2 - lat1\n",
        "    dlon = lon2 - lon1\n",
        "\n",
        "    # Haversine formula...i hope\n",
        "    a = sin(dlat / 2)**2 + cos(lat1) * cos(lat2) * sin(dlon / 2)**2\n",
        "    c = 2 * atan2(sqrt(a), sqrt(1 - a))\n",
        "\n",
        "    return R * c\n",
        "\n",
        "def astar(graph, start, end):\n",
        "    pq = [(0, start)]\n",
        "\n",
        "    distances = {vertex: float('infinity') for vertex in graph}\n",
        "    distances[start] = 0\n",
        "\n",
        "    while pq:\n",
        "        current_distance, current_vertex = heapq.heappop(pq)\n",
        "\n",
        "        for neighbor, weight in graph[current_vertex].items():\n",
        "            distance = current_distance + weight\n",
        "\n",
        "            if distance < distances[neighbor]:\n",
        "                distances[neighbor] = distance\n",
        "                heapq.heappush(pq, (distance, neighbor))\n",
        "\n",
        "    return distances[end]\n",
        "\n",
        "# Define the graph as a dictionary of coordinates and their neighbors with distances\n",
        "# If you need gpt's help with this, then ask for a basic map, especially if the points are between a staright road like i95\n",
        "# An example prompt: \"how can I go about using a basic map of fau to go from fau stadium to fau theatre?\"\n",
        "graph = {\n",
        "    (26.369148, -80.101501): {(26.373798, -80.101921): haversine_distance((26.369148, -80.101501), (26.373798, -80.101921))},\n",
        "    (26.373798, -80.101921): {(26.375, -80.102): haversine_distance((26.373798, -80.101921), (26.375, -80.102)),\n",
        "                              (26.377, -80.1): haversine_distance((26.373798, -80.101921), (26.377, -80.1))},\n",
        "    (26.375, -80.102): {(26.377, -80.1): haversine_distance((26.375, -80.102), (26.377, -80.1))},\n",
        "    (26.377, -80.1): {},\n",
        "}\n",
        "\n",
        "# imma do the stadium and theatre since i forgot the actual places and cuz easy check to make sure it works\n",
        "# FAU Stadium\n",
        "start = ((26.369148, -80.101501), \"FAU Stadium\")\n",
        "# FAU Theatre\n",
        "end = ((26.377, -80.1), \"FAU Theatre\")\n",
        "\n",
        "shortest_distance = astar(graph, start[0], end[0])\n",
        "\n",
        "shortest_distance_miles = shortest_distance * 0.621371\n",
        "\n",
        "print(f\"The shortest distance from {start[1]} to {end[1]} is {shortest_distance_miles} miles.\")\n"
      ],
      "metadata": {
        "colab": {
          "base_uri": "https://localhost:8080/"
        },
        "id": "_Aljyu7PRoCC",
        "outputId": "00f79f73-d234-4582-c2d7-6a007df20a77"
      },
      "execution_count": 27,
      "outputs": [
        {
          "output_type": "stream",
          "name": "stdout",
          "text": [
            "The shortest distance from FAU Stadium to FAU Theatre is 0.5735027048590682 miles.\n"
          ]
        }
      ]
    },
    {
      "cell_type": "code",
      "source": [],
      "metadata": {
        "id": "_SqQr5jGRwni"
      },
      "execution_count": null,
      "outputs": []
    }
  ]
}